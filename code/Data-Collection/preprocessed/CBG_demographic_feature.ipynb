{
 "cells": [
  {
   "cell_type": "markdown",
   "id": "cb9f2da104fd5f1",
   "metadata": {
    "collapsed": false
   },
   "source": [
    "## pre-process: collect CBGs' demographic features from SafeGraph Datasets"
   ]
  },
  {
   "cell_type": "code",
   "execution_count": null,
   "id": "naval-champion",
   "metadata": {},
   "outputs": [],
   "source": [
    "import pickle\n",
    "import pandas as pd\n",
    "import os\n",
    "import tqdm"
   ]
  },
  {
   "cell_type": "code",
   "execution_count": null,
   "id": "vertical-paintball",
   "metadata": {},
   "outputs": [],
   "source": [
    "description = pd.read_csv('/data/rawdata/SafeGraphDatasets/OpenCensus/safegraph_open_census_data_2019/metadata/cbg_field_descriptions.csv')\n",
    "feature_dict19 = {'B01001e1': 'Total population', 'B01001e2': 'Male population', 'B01001e3': 'Male population: Under 5 years', 'B01001e4': 'Male population: 5 to 9 years',\n",
    "                'B01001e5': 'Male population: 10 to 14 years', 'B01001e6': 'Male population: 15 to 17 years', 'B01001e7': 'Male population: 18 to 19 years', 'B01001e8': 'Male population: 20 years',\n",
    "                'B01001e9': 'Male population: 21 years', 'B01001e10': 'Male population: 22 to 24 years', 'B01001e11': 'Male population: 25 to 29 years', 'B01001e12': 'Male population: 30 to 34 years', \n",
    "                'B01001e13': 'Male population: 35 to 39 years', 'B01001e14': 'Male population: 40 to 44 years', 'B01001e15': 'Male population: 45 to 49 years', \n",
    "                'B01001e16': 'Male population: 50 to 54 years', 'B01001e17': 'Male population: 55 to 59 years', 'B01001e18': 'Male population: 60 to 61 years',\n",
    "                'B01001e19': 'Male population: 62 to 64 years', 'B01001e20': 'Male population: 65 to 66 years', 'B01001e21': 'Male population: 67 to 69 years', 'B01001e22': 'Male population: 70 to 74 years',\n",
    "                'B01001e23': 'Male population: 75 to 79 years', 'B01001e24': 'Male population: 80 to 84 years', 'B01001e25': 'Male population: over 84 years', 'B01001e26': 'Female population', 'B01001e27': 'Female population: Under 5 years', 'B01001e28': 'Female population: 5 to 9 years', 'B01001e29': 'Female population: 10 to 14 years', 'B01001e30': 'Female population: 15 to 17 years', 'B01001e31': 'Female population: 18 to 19 years', 'B01001e32': 'Female population: 20 years', 'B01001e33': 'Female population: 21 years', 'B01001e34': 'Female population: 22 to 24 years', 'B01001e35': 'Female population: 25 to 29 years', 'B01001e36': 'Female population: 30 to 34 years', 'B01001e37': 'Female population: 35 to 39 years', 'B01001e38': 'Female population: 40 to 44 years', 'B01001e39': 'Female population: 45 to 49 years', 'B01001e40': 'Female population: 50 to 54 years',\n",
    "                'B01001e41': 'Female population: 55 to 59 years', 'B01001e42': 'Female population: 60 to 61 years', 'B01001e43': 'Female population: 62 to 64 years', 'B01001e44': 'Female population: 65 to 66 years', 'B01001e45': 'Female population: 67 to 69 years', 'B01001e46': 'Female population: 70 to 74 years', 'B01001e47': 'Female population: 75 to 79 years', 'B01001e48': 'Female population: 80 to 84 years', 'B01001e49': 'Female population: over 84 years',\n",
    "                'B01002e1': 'Total Median Age', 'B01002e2': 'Male Median Age', 'B01002e3': 'Female Median Age', \n",
    "                'B02001e2': 'White alone population', 'B02001e3': 'Black alone population', 'B02001e4': 'American Indian and Alaska Native alone population', 'B02001e5': 'Asian alone population', 'B02001e6': 'Hawaiian and other Pacific alone population', 'B02001e7': 'Other race alone population', 'B02001m8': 'Two or more races population', \n",
    "                'B15002e2': 'Male over 25 years', 'B15002e11': 'Male high school graduated', 'B15002e12': 'Male college less than 1 year', 'B15002e13': 'Male college 1 or more years no degree', 'B15002e14': 'Male associate degree', 'B15002e15': 'Male bachelor degree', 'B15002e16': 'Male master degree', 'B15002e17': 'Male professional school degree', 'B15002e18': 'Male doctorate degree', 'B15002e19': 'Female over 25 years', 'B15002e28': 'Female high school graduated', 'B15002e29': 'Female college less than 1 year', 'B15002e30': 'Female college 1 or more years no degree', 'B15002e31': 'Female associate degree', 'B15002e32': 'Female bachelor degree', 'B15002e33': 'Female master degree', 'B15002e34': 'Female professional school degree', 'B15002e35': 'Female doctorate degree', 'B15003e1': 'Total over 25 years', 'B15003e18': 'Total high school graduated', 'B15003e19': 'Total college less than 1 year', 'B15003e20': 'Total college 1 or more years no degree', 'B15003e21': 'Total associate degree', 'B15003e22': 'Total bachelor degree', 'B15003e23': 'Total master degree', 'B15003e24': 'Total professional school degree', 'B15003e25': 'Total doctorate degree', 'B15011e1': 'Total bachelor or higher', \n",
    "                'B19001e1': 'Households total', 'B19001e2': 'Households less than 10000 dollar', 'B19001e3': 'Households 10000 to 15000 dollar', 'B19001e4': 'Households 15000 to 20000 dollar', 'B19001e5': 'Households 20000 to 25000 dollar', 'B19001e6': 'Households 25000 to 30000 dollar', 'B19001e7': 'Households 30000 to 35000 dollar', 'B19001e8': 'Households 35000 to 40000 dollar', 'B19001e9': 'Households 40000 to 45000 dollar', 'B19001e10': 'Households 45000 to 50000 dollar', 'B19001e11': 'Households 50000 to 60000 dollar', 'B19001e12': 'Households 60000 to 75000 dollar', 'B19001e13': 'Households 75000 to 100000 dollar', 'B19001e14': 'Households 100000 to 125000 dollar', 'B19001e15': 'Households 125000 to 150000 dollar', 'B19001e16': 'Households 150000 to 200000 dollar', 'B19001e17': 'Households over 200000 dollar',\n",
    "                'B08301e1': 'Workers population', 'B08301e2': 'Car, truck, or van', 'B08301e10': 'Public transportation (excluding taxicab)', 'B08301e11': 'Bus or trolley bus', 'B08301e12': 'Streetcar or trolley car', 'B08301e13': 'Subway or elevated', 'B08301e14': 'Railroad', 'B08301e15': 'Ferryboat', 'B08301e16': 'Taxicab', 'B08301e17': 'Motorcycle', 'B08301e18': 'Bicycle', 'B08301e19': 'Walked', 'B08301e20': 'Other means', 'B08301e21': 'Worked at home',\n",
    "                'B25038e1': 'Total occupied housing units', 'B25038e2': 'Owner occupied housing units', 'B25038e3': 'Owner occupied housing units: Moved in 2015 or later', 'B25038e4': 'Owner occupied housing units: Moved in 2010 to 2014', 'B25038e5': 'Owner occupied housing units: Moved in 2000 to 2009', 'B25038e6': 'Owner occupied housing units: Moved in 1990 to 1999', 'B25038e7': 'Owner occupied housing units: Moved in 1980 to 1989', 'B25038e8': 'Owner occupied housing units: Moved in 1979 or earlier', 'B25038e9': 'Renter occupied housing units', 'B25038e10': 'Renter occupied housing units: Moved in 2015 or later', 'B25038e11': 'Renter occupied housing units: Moved in 2010 to 2014', 'B25038e12': 'Renter occupied housing units: Moved in 2000 to 2009', 'B25038e13': 'Renter occupied housing units: Moved in 1990 to 1999', 'B25038e14': 'Renter occupied housing units: Moved in 1980 to 1989', 'B25038e15': 'Renter occupied housing units: Moved in 1979 or earlier', \n",
    "                'C16002e1': 'Households total', 'C16002e2': 'Households English only', 'C16002e4': 'Households Spanish limited English', 'C16002e7': 'Households Indo-European limited English', 'C16002e10': 'Households Asian-Pacific limited English', 'C16002e13': 'Households other languages limited English',\n",
    "                'B22010e1': 'Households total', 'B22010e3': 'Households with 1 or more persons with a disability received food stamp', 'B22010e6': 'Households with 1 or more persons with a disability not received food stamp', \n",
    "                'B27010e1': 'Civilian noninstitutionalized population', 'B27010e17': 'No health insurance under 18', 'B27010e33': 'No health insurance 18 to 34', 'B27010e50': 'No health insurance 35 to 64', 'B27010e66': 'No health insurance over 65', 'B23025e1': 'Total: Population 16 years and over', 'B23025e2': 'In labor force: Population 16 years and over', 'B23025e3': 'In labor force: Civilian labor force: Population 16 years and over', 'B23025e4': 'In labor force: Civilian labor force: Employed: Population 16 years and over', 'B23025e5': 'In labor force: Civilian labor force: Unemployed: Population 16 years and over', 'B23025e6': 'In labor force: Armed Forces: Population 16 years and over', 'B23025e7': 'Not in labor force: Population 16 years and over', \n",
    "                'B07201e1': 'Population 1 year and over living in a Metropolitan Statistical Area', 'B07201e2': 'Same house 1 year ago', 'B07201e3': 'Different house in United States 1 year ago',\n",
    "    'C17002e1': 'Poverty_population_determined', 'B17021e19': 'Population_over_poverty', 'B17021e2': 'Population_below_poverty', 'B19013e1': 'Household_median_income',\n",
    "    'B03002e12': 'Hispanic population', 'B03002e3': 'Not Hispanic White', 'B03002e4': 'Not Hispanic Black', 'B03002e6': 'Not Hispanic Asian',\n",
    "    'B08303e1': 'Not home worker population', 'B08303e2': 'Travel time <5min', 'B08303e3': 'Travel time 5to9min','B08303e4': 'Travel time 10to14min','B08303e5': 'Travel time 15to19min','B08303e6': 'Travel time 20to24min','B08303e7': 'Travel time 25to29min','B08303e8': 'Travel time 30to34min','B08303e9': 'Travel time 35to39min', 'B08303e10': 'Travel time 40to44min', 'B08303e11': 'Travel time 45to59min', 'B08303e12': 'Travel time 60to89min', 'B08303e13': 'Travel time >90min',\n",
    "    'B08302e2': 'Leave home 12to5am','B08302e3': 'Leave home 5to530am','B08302e4':'Leave home 530to6am' ,'B08302e5': 'Leave home 6to630am','B08302e6': 'Leave home 630to7am','B08302e7': 'Leave home 7to730am','B08302e8': 'Leave home 730to8am','B08302e9': 'Leave home 8to830am','B08302e10': 'Leave home 830to9am','B08302e11': 'Leave home 9to10am','B08302e12': 'Leave home 10to11am','B08302e13': 'Leave home 11to12am','B08302e14': 'Leave home 12to4pm','B08302e15': 'Leave home 4to12pm' ,\n",
    "     'B25024e1': 'Allocated Housing Units',  'B25024e2': 'Single-family Houses',\n",
    "    'B11016e1': 'Total: Households','B11016e10': 'Nonfamily households: 1-person household','B11016e11': 'Nonfamily households: 2-person household','B11016e12': 'Nonfamily households: 3-person household','B11016e13': 'Nonfamily households: 4-person household','B11016e14': 'Nonfamily households: 5-person household','B11016e15': 'Nonfamily households: 6-person household','B11016e16': 'Nonfamily households: 7-or-more person household','B11016e3': 'Family households: 2-person household','B11016e4': 'Family households: 3-person household','B11016e5': 'Family households: 4-person household','B11016e6': 'Family households: 5-person household','B11016e7': 'Family households: 6-person household','B11016e8': 'Family households: 7-or-more person household',\n",
    "    'B09002e1': 'own children families', 'B11016e2': 'family households',\n",
    "    'B25077e1': 'median household value',\n",
    "    'B25044e1': 'Ocuppied_housing_units', 'B25044e10': 'No vehicle available renter occupied', 'B25044e3': 'No vehicle available owner occupied',\n",
    "    'B19057e2': 'Households with public assistance income',\n",
    "    'B99053e1': 'Foreign-born naturalized citizens', 'B99051e5': 'Foreign-born population',\n",
    "    'B16004e1': 'over 5y old',  'B16004e8': 'NOT_AT_ALL1', 'B16004e13': 'NOT_AT_ALL2', 'B16004e18': 'NOT_AT_ALL3',  'B16004e23': 'NOT_AT_ALL4', 'B16004e30': 'NOT_AT_ALL5',  'B16004e35': 'NOT_AT_ALL6', 'B16004e40': 'NOT_AT_ALL7',  'B16004e45': 'NOT_AT_ALL8', 'B16004e52': 'NOT_AT_ALL9',  'B16004e57': 'NOT_AT_ALL10', 'B16004e62': 'NOT_AT_ALL11',  'B16004e67': 'NOT_AT_ALL12',\n",
    "    'B16004e7': 'NOT_WELL1', 'B16004e12': 'NOT_WELL2', 'B16004e17': 'NOT_WELL3',  'B16004e22': 'NOT_WELL4', 'B16004e29': 'NOT_WELL5',  'B16004e34': 'NOT_WELL6', 'B16004e39': 'NOT_WELL7',  'B16004e44': 'NOT_WELL8', 'B16004e51': 'NOT_WELL9',  'B16004e56': 'NOT_WELL10', 'B16004e61': 'NOT_WELL11',  'B16004e66': 'NOT_WELL12',\n",
    "    'B14007e2': 'Enrolled', 'B14007e17': 'Enrolled College', 'B14007e18': 'Enrolled Graduate', 'B14007e1': 'Population Over 3',\n",
    "      'B11004e3': 'Married-couple with children', 'B11004e10': 'Male with children', 'B11004e16': 'Female with children'         }"
   ]
  },
  {
   "cell_type": "code",
   "execution_count": null,
   "id": "77198cdce8966511",
   "metadata": {},
   "outputs": [],
   "source": [
    "pt = '/data/rawdata/SafeGraphDatasets/OpenCensus/safegraph_open_census_data_2019/data/'\n",
    "\n",
    "cbg_name = pd.read_csv(pt + 'cbg_b01.csv')\n",
    "cbg_name = cbg_name[['census_block_group']]\n",
    "x1 = pd.read_csv(pt + 'cbg_b01.csv')\n",
    "x1 = x1[[x for x in x1.columns if x in feature_dict19.keys()]]\n",
    "cbg_features = pd.concat([cbg_name, x1], axis=1)\n",
    "\n",
    "for file in tqdm.tqdm(os.listdir(pt)):\n",
    "# for file in tqdm.tqdm(['cbg_b02.csv', 'cbg_b03.csv', 'cbg_b15.csv', 'cbg_b17.csv', 'cbg_b19.csv', 'cbg_c16.csv', 'cbg_b08.csv', 'cbg_b25.csv', 'cbg_b22.csv', 'cbg_b27.csv', 'cbg_b23.csv', 'cbg_b07.csv', 'cbg_c17.csv',  'cbg_b11.csv',  'cbg_b09.csv', 'cbg_b99.csv', 'cbg_b14.csv']):\n",
    "    x1 = pd.read_csv(pt + file)\n",
    "    x1 = x1[[x for x in x1.columns if x in feature_dict19.keys()]]\n",
    "    cbg_features = pd.concat([cbg_features, x1], axis=1)"
   ]
  },
  {
   "cell_type": "code",
   "execution_count": null,
   "id": "dynamic-break",
   "metadata": {},
   "outputs": [],
   "source": [
    "cbg_features.rename(columns = feature_dict19, inplace = True) \n",
    "\n",
    "duplicated_columns = cbg_features.columns[cbg_features.columns.duplicated()]\n",
    "cbg_features = cbg_features.loc[:, ~cbg_features.columns.duplicated()]\n",
    "cbg_features.shape #220333,248"
   ]
  },
  {
   "cell_type": "markdown",
   "id": "b8b290c38568914f",
   "metadata": {
    "collapsed": false
   },
   "source": [
    "### rename_raw_data to calulate_data(2019)"
   ]
  },
  {
   "cell_type": "code",
   "execution_count": null,
   "id": "8f560d4ab6e303c6",
   "metadata": {},
   "outputs": [],
   "source": [
    "\n",
    "\n",
    "df = cbg_features \n",
    "df_new = df[['census_block_group', 'Total population']].copy()\n",
    "df_new['Households total'] = df['Households total']\n",
    "df_new['female_ratio'] = df['Female population'] / df['Total population']\n",
    "df_new['white_ratio'] = df['White alone population']/df['Total population']\n",
    "df_new['black_ratio'] = df['Black alone population']/df['Total population']\n",
    "df_new['asian_ratio'] = df['Asian alone population']/df['Total population']\n",
    "df_new['Hispanic_ratio'] = df['Hispanic population']/df['Total population']\n",
    "df_new['non_Hispanic_white_ratio'] = df['Not Hispanic White']/df['Total population']\n",
    "df_new['non_Hispanic_black_ratio'] = df['Not Hispanic Black']/df['Total population']\n",
    "\n",
    "df_new['high_school_graduated_ratio'] = df['Total high school graduated']/df['Total population']\n",
    "df_new['bechelor_degree_ratio'] = (df['Total college less than 1 year']+df['Total college 1 or more years no degree']+df['Total associate degree']+df['Total bachelor degree'])/df['Total population']\n",
    "df_new['master_degree_ratio']=df['Total master degree']/df['Total population']\n",
    "df_new['professional_school_degree_ratio']=df['Total professional school degree']/df['Total population']\n",
    "df_new['doctorate_degree_ratio'] = df['Total doctorate degree']/df['Total population']\n",
    "# df_new['bachelor_ratio'] = df['Total bachelor or higher']/df['Total over 25 years']\n",
    "\n",
    "df_new['english_limited_ratio'] = (df['Households Spanish limited English']+df['Households Indo-European limited English']+df['Households Asian-Pacific limited English']+df['Households other languages limited English'])/df['Households total']\n",
    "df_new['average_income'] = (5000*df['Households less than 10000 dollar']+12500*df['Households 10000 to 15000 dollar']+17500*df['Households 15000 to 20000 dollar']+22500*df['Households 20000 to 25000 dollar']+27500*df['Households 25000 to 30000 dollar']\n",
    "+32500*df['Households 30000 to 35000 dollar']+37500*df['Households 35000 to 40000 dollar']+42500*df['Households 40000 to 45000 dollar']+42500*df['Households 45000 to 50000 dollar']\n",
    "+55000*df['Households 50000 to 60000 dollar']+67500*df['Households 60000 to 75000 dollar']\n",
    "+87500*df['Households 75000 to 100000 dollar']+112500*df['Households 100000 to 125000 dollar']+137500*df['Households 125000 to 150000 dollar']\n",
    "+175000*df['Households 150000 to 200000 dollar']+300000*df['Households over 200000 dollar'])/df['Households total']\n",
    "\n",
    "df_new['income less than 25000']=(df['Households less than 10000 dollar']+df['Households 10000 to 15000 dollar']+df['Households 15000 to 20000 dollar']+df['Households 20000 to 25000 dollar'])/df['Households total']\n",
    "df_new['income 25000 to 45000'] = (df['Households 25000 to 30000 dollar']\n",
    "+df['Households 30000 to 35000 dollar']+df['Households 35000 to 40000 dollar']+df['Households 40000 to 45000 dollar'])/df['Households total']\n",
    "df_new['income 45000 to 100000'] = (df['Households 45000 to 50000 dollar']\n",
    "+df['Households 50000 to 60000 dollar']+df['Households 60000 to 75000 dollar']\n",
    "+df['Households 75000 to 100000 dollar'])/df['Households total']\n",
    "df_new['income over 100000'] = (df['Households 100000 to 125000 dollar']+df['Households 125000 to 150000 dollar']\n",
    "+df['Households 150000 to 200000 dollar']+df['Households over 200000 dollar'])/df['Households total']\n",
    "\n",
    "df_new['median_income'] = df['Household_median_income']\n",
    "df_new['poverty_ratio'] = df['Population_below_poverty'] / df['Poverty_population_determined']\n",
    "df_new['median_age'] = df['Total Median Age']\n",
    "\n",
    "df_new['population_young_ratio'] = (df['Male population: Under 5 years']+df['Female population: Under 5 years']+df['Male population: 5 to 9 years']+df['Female population: 5 to 9 years']+df['Male population: 10 to 14 years']+df['Female population: 10 to 14 years']+df['Male population: 15 to 17 years']+df['Female population: 15 to 17 years']+df['Male population: 18 to 19 years']+df['Female population: 18 to 19 years'])/df['Total population']\n",
    "df_new['population_middle_ratio'] = (df['Male population: 20 years']+df['Female population: 20 years']+df['Male population: 21 years']+df['Female population: 21 years']+df['Male population: 22 to 24 years']+df['Female population: 22 to 24 years']+df['Male population: 25 to 29 years']+df['Female population: 25 to 29 years']+df['Male population: 30 to 34 years']+df['Female population: 30 to 34 years']+df['Male population: 35 to 39 years']+df['Female population: 35 to 39 years']+df['Male population: 40 to 44 years']+df['Female population: 40 to 44 years']+df['Male population: 45 to 49 years']+df['Female population: 45 to 49 years']+df['Male population: 50 to 54 years']+df['Female population: 50 to 54 years']+df['Male population: 55 to 59 years']+df['Female population: 55 to 59 years'])/df['Total population']\n",
    "df_new['population_old_ratio'] = (df['Male population: 60 to 61 years']+df['Female population: 60 to 61 years']+df['Male population: 62 to 64 years']+df['Female population: 62 to 64 years']+df['Male population: 65 to 66 years']+df['Female population: 65 to 66 years']+df['Male population: 67 to 69 years']+df['Female population: 67 to 69 years']+df['Male population: 70 to 74 years']+df['Female population: 70 to 74 years']+df['Male population: 80 to 84 years']+df['Female population: 80 to 84 years']+df['Male population: 75 to 79 years']+df['Female population: 75 to 79 years']+df['Male population: over 84 years']+df['Female population: over 84 years'])/df['Total population']\n",
    "\n",
    "df_new['unemployed_ratio'] = df['In labor force: Civilian labor force: Unemployed: Population 16 years and over'] / df['In labor force: Population 16 years and over']\n",
    "df_new['public_assistance_ratio'] = df['Households with public assistance income'] / df['Households total']\n",
    "df_new['disability_household_ratio'] = (df['Households with 1 or more persons with a disability received food stamp'] + df['Households with 1 or more persons with a disability not received food stamp']) / df['Households total']\n",
    "df_new['no_health_insurance_ratio'] = (df['No health insurance under 18'] + df['No health insurance 18 to 34']+df['No health insurance 35 to 64']+df['No health insurance over 65']) / df['Civilian noninstitutionalized population']\n",
    "df_new['single_family_ratio'] = df['Single-family Houses'] / df['Allocated Housing Units']\n",
    "df_new['driving_ratio'] = df['Car, truck, or van'] /df['Workers population']\n",
    "df_new['public_transit_ratio'] = df['Public transportation (excluding taxicab)'] /df['Workers population']\n",
    "df_new['average_commuting_time'] = (df['Travel time <5min'] * 2.5 + df['Travel time 5to9min'] * 7.5 + df['Travel time 10to14min'] * 12.5+ df['Travel time 15to19min'] * 17.5+ df['Travel time 20to24min'] * 22.5+ df['Travel time 25to29min'] * 27.5+ df['Travel time 30to34min'] * 32.5+ df['Travel time 35to39min'] * 37.5+ df['Travel time 40to44min'] * 42.5+ df['Travel time 45to59min'] * 52.5+ df['Travel time 60to89min'] * 75 + df['Travel time >90min'] * 100) / df['Not home worker population']\n",
    "df_new['leave_home_time'] = (df['Leave home 12to5am'] * 2.5 +df['Leave home 5to530am'] * 5.25 +df['Leave home 530to6am'] * 5.75 +df['Leave home 6to630am'] * 6.25 +df['Leave home 630to7am'] * 6.75 +df['Leave home 7to730am'] * 7.25 +df['Leave home 730to8am'] * 7.75 +df['Leave home 8to830am'] * 8.25 +df['Leave home 830to9am'] * 8.75 +df['Leave home 9to10am'] * 9.5 +df['Leave home 10to11am'] * 10.5 +df['Leave home 11to12am'] * 11.5 +df['Leave home 12to4pm'] * 14 +df['Leave home 4to12pm'] * 20) / df['Not home worker population']\n",
    "df_new['average_household_size'] = (df['Family households: 2-person household']*2\n",
    "+df['Family households: 3-person household']*3\n",
    " +df['Family households: 4-person household']*4\n",
    " +df['Family households: 5-person household']*5\n",
    " +df['Family households: 6-person household']*6\n",
    " +df['Family households: 7-or-more person household']*7\n",
    " +df['Nonfamily households: 1-person household']*1\n",
    " +df['Nonfamily households: 2-person household']*2\n",
    " +df['Nonfamily households: 3-person household']*3\n",
    " +df['Nonfamily households: 4-person household']*4\n",
    " +df['Nonfamily households: 5-person household']*5\n",
    " +df['Nonfamily households: 6-person household']*6\n",
    "+df['Nonfamily households: 7-or-more person household']*7 ) / df['Total: Households']\n",
    "df_new['children_rate'] = df['own children families'] / df['family households']\n",
    "df_new['vehicle_rate'] = 1- (df['No vehicle available renter occupied']+df['No vehicle available owner occupied']) / df['Ocuppied_housing_units']\n",
    "df_new['moved_in_5_years_ratio'] = (df['Owner occupied housing units: Moved in 2015 or later'] + df['Renter occupied housing units: Moved in 2015 or later']) / df['Total occupied housing units']\n",
    "df_new['moved_in_10_years_ratio'] = (df['Owner occupied housing units: Moved in 2015 or later'] + df['Renter occupied housing units: Moved in 2015 or later'] + df['Owner occupied housing units: Moved in 2010 to 2014'] + df['Renter occupied housing units: Moved in 2010 to 2014']) / df['Total occupied housing units']\n",
    "df_new['foreign_born_ratio'] = df['Foreign-born population'] / df['Total population']\n",
    "df_new['english_limited_population_ratio'] = (df['NOT_AT_ALL1']+df['NOT_AT_ALL2']+df['NOT_AT_ALL3']+df['NOT_AT_ALL4']+df['NOT_AT_ALL5']+df['NOT_AT_ALL6']+df['NOT_AT_ALL7']+df['NOT_AT_ALL8']+df['NOT_AT_ALL9']+df['NOT_AT_ALL10']+df['NOT_AT_ALL11']+df['NOT_AT_ALL12']+df['NOT_WELL1']+df['NOT_WELL2']+df['NOT_WELL3']+df['NOT_WELL4']+df['NOT_WELL5']+df['NOT_WELL6']+df['NOT_WELL7']+df['NOT_WELL8']+df['NOT_WELL9']+df['NOT_WELL10']+df['NOT_WELL11']+df['NOT_WELL12']) / df['over 5y old']\n",
    "df['3_to_19years'] = (df['Male population: Under 5 years']+df['Female population: Under 5 years']+df['Male population: 5 to 9 years']+df['Female population: 5 to 9 years']+df['Male population: 10 to 14 years']+df['Female population: 10 to 14 years']+df['Male population: 15 to 17 years']+df['Female population: 15 to 17 years']+df['Male population: 18 to 19 years']+df['Female population: 18 to 19 years']) - (df['Total population'] - df['Population Over 3'])\n",
    "df_new['enrollment_rate'] = (df['Enrolled'] - df['Enrolled College'] - df['Enrolled Graduate']) / df['3_to_19years']\n",
    "df_new['housing_value'] = df['median household value']\n",
    "df_new['non_couple_parent_children'] = 1 -  df['Married-couple with children'] / (df['Married-couple with children'] + df['Male with children'] + df['Female with children'])\n",
    "df_new['couple_parent_children'] = df['Married-couple with children'] / (df['Married-couple with children'] + df['Male with children'] + df['Female with children'])\n",
    "df_new.shape #220333,47"
   ]
  },
  {
   "cell_type": "code",
   "execution_count": null,
   "outputs": [],
   "source": [
    "df_new = df_new[df_new['Total population'] >= 100].reset_index(drop=True)\n",
    "print(df_new.shape)\n",
    "\n",
    "cbg_center_df=pd.read_csv('/data/rawdata/cbg_location.csv')\n",
    "df_new=df_new.merge(cbg_center_df,on='census_block_group',how='left')\n",
    "print(df_new.shape)\n",
    "\n",
    "df_new.to_csv('/data/rawdata/cbg_features_group.csv',index=False)\n",
    "print(df_new.shape)\n",
    "print(df_new.columns)\n",
    "del df_new"
   ],
   "metadata": {
    "collapsed": false
   },
   "id": "61068b78aa3b34f8"
  },
  {
   "cell_type": "markdown",
   "source": [
    "### collect city cbg feature"
   ],
   "metadata": {
    "collapsed": false
   },
   "id": "2eab98dcb84484ab"
  },
  {
   "cell_type": "code",
   "execution_count": null,
   "outputs": [],
   "source": [
    "specific_area = 'Philadelphia'\n",
    "specific_period = '2019'\n",
    "\n",
    "city_cbg_dict_path = '/data/rawdata/Yelp_5city_cbg_dict.pkl'\n",
    "with open(city_cbg_dict_path, 'rb') as f:\n",
    "    city_cbg_dict = pickle.load(f)\n",
    "if specific_area in city_cbg_dict:\n",
    "    specific_cbgs = city_cbg_dict[specific_area] \n",
    "else: \n",
    "    print(\"{} not found in the dict\".format(specific_area))\n",
    "print('original cbg num:'+str(len(specific_cbgs)))\n",
    "\n",
    "\n",
    "cbg_features=pd.read_csv('/data/cbg_features_group.csv')\n",
    "specific_features = (cbg_features[cbg_features.census_block_group.isin(specific_cbgs)]).reset_index(drop=True)\n",
    "print('cbg with feature num:'+str(specific_features.shape[0])) #423 Tucson\n",
    "\n",
    "\n",
    "missing_longitude = specific_features['longitude'].isnull()\n",
    "missing_latitude = specific_features['latitude'].isnull()\n",
    "missing_any = missing_longitude | missing_latitude\n",
    "count_missing_rows = missing_any.sum()\n",
    "print(f\"Number of rows with missing 'longitude' and 'latitude': {count_missing_rows}\")\n",
    "specific_features.dropna(subset=['longitude', 'latitude'], inplace=True)\n",
    "\n",
    "specific_features.to_csv('/data/' + specific_area + '/' + specific_area +'_cbg_features_group.csv',index = False)\n",
    "print(specific_features.shape)\n",
    "specific_features.head()"
   ],
   "metadata": {
    "collapsed": false
   },
   "id": "5f2a2e734d293429"
  }
 ],
 "metadata": {
  "kernelspec": {
   "display_name": "Python 3 (ipykernel)",
   "language": "python",
   "name": "python3"
  },
  "language_info": {
   "codemirror_mode": {
    "name": "ipython",
    "version": 3
   },
   "file_extension": ".py",
   "mimetype": "text/x-python",
   "name": "python",
   "nbconvert_exporter": "python",
   "pygments_lexer": "ipython3",
   "version": "3.7.7"
  }
 },
 "nbformat": 4,
 "nbformat_minor": 5
}
