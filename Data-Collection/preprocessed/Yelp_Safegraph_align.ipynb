{
 "cells": [
  {
   "cell_type": "markdown",
   "id": "ea06f24f82855534",
   "metadata": {
    "collapsed": false
   },
   "source": [
    "## pre-process: \n",
    "1. collect city POIs' Yelp business data \n",
    "2. align SafeGraph and Yelp at POI level\n",
    "3. collect city POIs' Yelp review and image\n",
    "4. get descriptive text for image by GPT4v\n"
   ]
  },
  {
   "cell_type": "code",
   "execution_count": 1,
   "id": "afe25305372f1976",
   "metadata": {
    "ExecuteTime": {
     "end_time": "2025-01-24T02:42:23.259248100Z",
     "start_time": "2025-01-24T02:42:21.553810300Z"
    }
   },
   "outputs": [],
   "source": [
    "import json\n",
    "import pandas as pd\n",
    "import matplotlib.pyplot as plt\n",
    "import geopandas as gpd\n",
    "import ast\n",
    "from tqdm import tqdm\n",
    "import shutil\n",
    "from shapely.geometry import Point\n",
    "from numpy import radians, sin, cos, arcsin, sqrt"
   ]
  },
  {
   "cell_type": "code",
   "execution_count": 2,
   "id": "221f0ff1ca19120d",
   "metadata": {
    "ExecuteTime": {
     "end_time": "2025-01-22T13:57:09.210985400Z",
     "start_time": "2025-01-22T13:57:09.200462700Z"
    }
   },
   "outputs": [],
   "source": [
    "city = 'New Orleans' #ATENTION: change target city name here!\n",
    "\n",
    "yelp_path='/data/rawdata/Yelp/'  \n",
    "geojson_path = '/data/rawdataset/city_geojson/'\n",
    "yelp_business_file_name = 'yelp_academic_dataset_business.json'\n",
    "yelp_business_file_path = yelp_path+yelp_business_file_name"
   ]
  },
  {
   "cell_type": "markdown",
   "source": [
    "## collect city Yelp bussiness\n",
    "\n",
    "business_df (150346, 14) ['business_id', 'name', 'address', 'city', 'state', 'postal_code',\n",
    "       'latitude', 'longitude', 'stars', 'review_count', 'is_open',\n",
    "       'attributes', 'categories', 'hours']\n",
    "       "
   ],
   "metadata": {
    "collapsed": false
   },
   "id": "61f39db59429d56d"
  },
  {
   "cell_type": "code",
   "execution_count": null,
   "outputs": [],
   "source": [
    "#json文件有多行 读取数据时要逐行阅读\n",
    "all_data_temp=[]\n",
    "with open(yelp_business_file_path, 'r', encoding='utf-8') as file:\n",
    "    for line in file:\n",
    "        try:\n",
    "            data_temp = json.loads(line)\n",
    "            all_data_temp.append(data_temp)\n",
    "        except json.JSONDecodeError as e: #没有报错\n",
    "            print(f\"Error parsing JSON object on line: {file.lineno()} - {e}\")\n",
    "business_df = pd.DataFrame(all_data_temp)    \n",
    "#(150346, 14)\n",
    "# Index(['business_id', 'name', 'address', 'city', 'state', 'postal_code',\n",
    "#        'latitude', 'longitude', 'stars', 'review_count', 'is_open',\n",
    "#        'attributes', 'categories', 'hours'],\n",
    "#       dtype='object')\n",
    "\n",
    "business_df.head(5)"
   ],
   "metadata": {
    "collapsed": false
   },
   "id": "9f624e8227bac5cb"
  },
  {
   "cell_type": "code",
   "execution_count": null,
   "outputs": [],
   "source": [
    "city_geojson = gpd.read_file(geojson_path+f'{city}.geojson') \n",
    "city_cbgs = list(city_geojson.census_block_group)\n",
    "\n",
    "business_df_filtered = []\n",
    "for index, row in tqdm.tqdm(business_df.iterrows()):\n",
    "    point = Point(row['longitude'], row['latitude'])\n",
    "    if any(polygon.contains(point) for polygon in city_geojson.geometry):\n",
    "        business_df_filtered.append(row)\n",
    "business_df_filtered = pd.DataFrame(business_df_filtered)\n",
    "business_df_filtered.reset_index(drop=True, inplace=True)\n",
    "business_df_filtered.drop(columns=['within_city'], inplace=True)\n",
    "business_df = business_df_filtered\n",
    "del business_df_filtered\n",
    "\n",
    "business_df.to_csv(yelp_path+f'/yelp_business_city/{city}_business.csv',index=False)\n",
    "\n",
    "business_df.head()"
   ],
   "metadata": {
    "collapsed": false
   },
   "id": "11cf0e9633080a9d"
  },
  {
   "cell_type": "markdown",
   "id": "853a4e38a898dbd8",
   "metadata": {},
   "source": [
    "## concat SafeGraph and Yelp\n",
    "poi_datasets_df(safegraph) \n",
    "\n",
    "business_df(yelp)  14563\n",
    "result_df  (5965,)\n",
    "['placekey', 'location_name','visitor_home_cbgs', 'latitude',\n",
    "       'longitude','poi_cbg', 'business_id', 'name', 'address', 'stars', 'review_count', 'is_open', 'attributes', 'categories',\n",
    "       'hours']\n",
    "\n",
    "philadelphia:14563-->5340?不确定\n",
    "Tuscon: 10014,7502-->2703\n",
    "Tampa: 10302, 6599-->2222\n",
    "Reno: 6016 ,6373 --> 1866\n",
    "New Orleans: 7145,6261-->2392"
   ]
  },
  {
   "cell_type": "code",
   "execution_count": 3,
   "id": "b9179190d99a85ff",
   "metadata": {
    "ExecuteTime": {
     "end_time": "2025-01-22T10:04:02.282383200Z",
     "start_time": "2025-01-22T10:04:01.838463600Z"
    }
   },
   "outputs": [
    {
     "name": "stdout",
     "output_type": "stream",
     "text": [
      "Index(['placekey', 'location_name', 'poi_cbg', 'visitor_home_cbgs', 'latitude',\n",
      "       'longitude'],\n",
      "      dtype='object') Index(['business_id', 'name', 'address', 'city', 'state', 'postal_code',\n",
      "       'latitude', 'longitude', 'stars', 'review_count', 'is_open',\n",
      "       'attributes', 'categories', 'hours'],\n",
      "      dtype='object')\n"
     ]
    }
   ],
   "source": [
    "poi_datasets_df = pd.read_csv(f'data/{city}/{city}_poi_features.csv',usecols=['placekey','location_name','poi_cbg'])\n",
    "poi_location = pd.read_csv(f'data/{city}/{city}_poi_location.csv')\n",
    "poi_visitor = pd.read_csv(f'data/{city}/{city}_poi_visitor.csv')\n",
    "poi_datasets_df = pd.merge(poi_datasets_df,poi_visitor,how='inner',on='placekey')\n",
    "poi_datasets_df = pd.merge(poi_datasets_df,poi_location,how='inner',on='placekey').sort_values(by=['latitude', 'longitude'], ascending=[True, True])\n",
    "business_df = pd.read_csv(yelp_path+f'/yelp_business_city/{city}_business.csv').sort_values(by=['latitude', 'longitude'], ascending=[True, True])\n",
    "print(poi_datasets_df.columns,business_df.columns)"
   ]
  },
  {
   "cell_type": "code",
   "execution_count": 4,
   "id": "643fbc4c00330ad5",
   "metadata": {
    "ExecuteTime": {
     "end_time": "2025-01-22T10:04:02.440503700Z",
     "start_time": "2025-01-22T10:04:02.377368900Z"
    }
   },
   "outputs": [],
   "source": [
    "def disN7(lon1, lat1, lon2, lat2):\n",
    "    lon1, lat1, lon2, lat2 = map(radians, [lon1, lat1, lon2, lat2])\n",
    "    d_lon = lon2 - lon1\n",
    "    d_lat = lat2 - lat1\n",
    "    aa = sin(d_lat / 2) ** 2 + cos(lat1) * cos(lat2) * sin(d_lon / 2) ** 2\n",
    "    bb=sqrt(aa)\n",
    "    c = 2 * arcsin(bb)\n",
    "    r = 6371\n",
    "    return c * r"
   ]
  },
  {
   "cell_type": "code",
   "execution_count": 5,
   "id": "cbc1e332b847f05",
   "metadata": {
    "ExecuteTime": {
     "end_time": "2025-01-22T10:04:17.990843400Z",
     "start_time": "2025-01-22T10:04:03.121363Z"
    }
   },
   "outputs": [
    {
     "name": "stderr",
     "output_type": "stream",
     "text": [
      "100%|██████████| 2894/2894 [00:14<00:00, 204.13it/s]"
     ]
    },
    {
     "name": "stdout",
     "output_type": "stream",
     "text": [
      "(2598, 22)\n",
      "(2588, 22)\n"
     ]
    },
    {
     "name": "stderr",
     "output_type": "stream",
     "text": [
      "\n"
     ]
    },
    {
     "data": {
      "text/plain": "              placekey               location_name       poi_cbg  \\\n0  222-222@8dy-qv3-9xq       Big Easy Fresh Market  2.207100e+11   \n1  22x-222@8dy-rfj-bzf             Freret Hardware  2.207101e+11   \n2  22h-222@8dy-qv4-3qz  Bud Rip's Old 9th Ward Bar  2.207100e+11   \n3  222-222@8dy-qsk-575                Pontilly Sno  2.207101e+11   \n4  229-222@8dy-rf7-649          French Riviera Spa  2.207101e+11   \n\n                                   visitor_home_cbgs  latitude_x  longitude_x  \\\n0  {\"221030408035\": 75.80835959193861, \"220710024...   29.965759   -90.086833   \n1  {\"220710128003\": 78.9006265727704, \"2207101170...   29.935142   -90.109681   \n2  {\"220710039001\": 88.52431470759399, \"220710112...   29.964967   -90.042379   \n3  {\"220710017223\": 252.58972796691998, \"22071001...   30.002249   -90.043685   \n4  {\"220510249002\": 103.42595947014821, \"22071010...   29.962419   -90.117967   \n\n              business_id                        name               address  \\\n0  115LqFpJV04pVbl0TMqAog       Big Easy Fresh Market         2669 Canal St   \n1  gn3iHULx6eHKLQDLp5_Bcw             Freret Hardware        5109 Freret St   \n2  7n1S1ehbFA3oL8SoB_oP3w  Bud Rip's Old 9th Ward Bar             900 Piety   \n3  ZDDjY5Fq8PVX793gSxDSMQ                Pontilly Sno  3968 Old Gentilly Rd   \n4  _y1Sa3lMU51_C0sR8hb5vQ          French Riviera Spa     8350 Earhart Blvd   \n\n          city  ... latitude_y  longitude_y  stars  review_count  is_open  \\\n0  New Orleans  ...  29.965759   -90.086833    4.5            22        1   \n1  New Orleans  ...  29.935143   -90.109680    4.0            17        1   \n2  New Orleans  ...  29.964965   -90.042379    3.5            40        1   \n3  New Orleans  ...  30.002250   -90.043684    4.5            11        1   \n4  New Orleans  ...  29.962417   -90.117967    2.0            15        0   \n\n                                          attributes  \\\n0  {'Caters': 'True', 'BusinessAcceptsCreditCards...   \n1  {'BusinessAcceptsCreditCards': 'True', 'Restau...   \n2  {'OutdoorSeating': 'False', 'HasTV': 'True', '...   \n3  {'WiFi': \"u'free'\", 'RestaurantsPriceRange2': ...   \n4  {'GoodForKids': 'False', 'BusinessAcceptsCredi...   \n\n                                          categories  \\\n0                                      Food, Grocery   \n1  Shopping, Kitchen & Bath, Home & Garden, Hardw...   \n2                                    Bars, Nightlife   \n3        Ice Cream & Frozen Yogurt, Shaved Ice, Food   \n4  Trainers, Fitness & Instruction, Gyms, Active ...   \n\n                                               hours _merge     disN7  \n0  {'Monday': '6:0-22:0', 'Tuesday': '6:0-22:0', ...   both  0.000036  \n1  {'Monday': '8:0-16:0', 'Tuesday': '8:0-16:0', ...   both  0.000124  \n2                                                NaN   both  0.000179  \n3  {'Monday': '0:0-0:0', 'Tuesday': '10:0-19:0', ...   both  0.000182  \n4  {'Monday': '5:0-22:0', 'Tuesday': '5:0-22:0', ...   both  0.000191  \n\n[5 rows x 22 columns]",
      "text/html": "<div>\n<style scoped>\n    .dataframe tbody tr th:only-of-type {\n        vertical-align: middle;\n    }\n\n    .dataframe tbody tr th {\n        vertical-align: top;\n    }\n\n    .dataframe thead th {\n        text-align: right;\n    }\n</style>\n<table border=\"1\" class=\"dataframe\">\n  <thead>\n    <tr style=\"text-align: right;\">\n      <th></th>\n      <th>placekey</th>\n      <th>location_name</th>\n      <th>poi_cbg</th>\n      <th>visitor_home_cbgs</th>\n      <th>latitude_x</th>\n      <th>longitude_x</th>\n      <th>business_id</th>\n      <th>name</th>\n      <th>address</th>\n      <th>city</th>\n      <th>...</th>\n      <th>latitude_y</th>\n      <th>longitude_y</th>\n      <th>stars</th>\n      <th>review_count</th>\n      <th>is_open</th>\n      <th>attributes</th>\n      <th>categories</th>\n      <th>hours</th>\n      <th>_merge</th>\n      <th>disN7</th>\n    </tr>\n  </thead>\n  <tbody>\n    <tr>\n      <th>0</th>\n      <td>222-222@8dy-qv3-9xq</td>\n      <td>Big Easy Fresh Market</td>\n      <td>2.207100e+11</td>\n      <td>{\"221030408035\": 75.80835959193861, \"220710024...</td>\n      <td>29.965759</td>\n      <td>-90.086833</td>\n      <td>115LqFpJV04pVbl0TMqAog</td>\n      <td>Big Easy Fresh Market</td>\n      <td>2669 Canal St</td>\n      <td>New Orleans</td>\n      <td>...</td>\n      <td>29.965759</td>\n      <td>-90.086833</td>\n      <td>4.5</td>\n      <td>22</td>\n      <td>1</td>\n      <td>{'Caters': 'True', 'BusinessAcceptsCreditCards...</td>\n      <td>Food, Grocery</td>\n      <td>{'Monday': '6:0-22:0', 'Tuesday': '6:0-22:0', ...</td>\n      <td>both</td>\n      <td>0.000036</td>\n    </tr>\n    <tr>\n      <th>1</th>\n      <td>22x-222@8dy-rfj-bzf</td>\n      <td>Freret Hardware</td>\n      <td>2.207101e+11</td>\n      <td>{\"220710128003\": 78.9006265727704, \"2207101170...</td>\n      <td>29.935142</td>\n      <td>-90.109681</td>\n      <td>gn3iHULx6eHKLQDLp5_Bcw</td>\n      <td>Freret Hardware</td>\n      <td>5109 Freret St</td>\n      <td>New Orleans</td>\n      <td>...</td>\n      <td>29.935143</td>\n      <td>-90.109680</td>\n      <td>4.0</td>\n      <td>17</td>\n      <td>1</td>\n      <td>{'BusinessAcceptsCreditCards': 'True', 'Restau...</td>\n      <td>Shopping, Kitchen &amp; Bath, Home &amp; Garden, Hardw...</td>\n      <td>{'Monday': '8:0-16:0', 'Tuesday': '8:0-16:0', ...</td>\n      <td>both</td>\n      <td>0.000124</td>\n    </tr>\n    <tr>\n      <th>2</th>\n      <td>22h-222@8dy-qv4-3qz</td>\n      <td>Bud Rip's Old 9th Ward Bar</td>\n      <td>2.207100e+11</td>\n      <td>{\"220710039001\": 88.52431470759399, \"220710112...</td>\n      <td>29.964967</td>\n      <td>-90.042379</td>\n      <td>7n1S1ehbFA3oL8SoB_oP3w</td>\n      <td>Bud Rip's Old 9th Ward Bar</td>\n      <td>900 Piety</td>\n      <td>New Orleans</td>\n      <td>...</td>\n      <td>29.964965</td>\n      <td>-90.042379</td>\n      <td>3.5</td>\n      <td>40</td>\n      <td>1</td>\n      <td>{'OutdoorSeating': 'False', 'HasTV': 'True', '...</td>\n      <td>Bars, Nightlife</td>\n      <td>NaN</td>\n      <td>both</td>\n      <td>0.000179</td>\n    </tr>\n    <tr>\n      <th>3</th>\n      <td>222-222@8dy-qsk-575</td>\n      <td>Pontilly Sno</td>\n      <td>2.207101e+11</td>\n      <td>{\"220710017223\": 252.58972796691998, \"22071001...</td>\n      <td>30.002249</td>\n      <td>-90.043685</td>\n      <td>ZDDjY5Fq8PVX793gSxDSMQ</td>\n      <td>Pontilly Sno</td>\n      <td>3968 Old Gentilly Rd</td>\n      <td>New Orleans</td>\n      <td>...</td>\n      <td>30.002250</td>\n      <td>-90.043684</td>\n      <td>4.5</td>\n      <td>11</td>\n      <td>1</td>\n      <td>{'WiFi': \"u'free'\", 'RestaurantsPriceRange2': ...</td>\n      <td>Ice Cream &amp; Frozen Yogurt, Shaved Ice, Food</td>\n      <td>{'Monday': '0:0-0:0', 'Tuesday': '10:0-19:0', ...</td>\n      <td>both</td>\n      <td>0.000182</td>\n    </tr>\n    <tr>\n      <th>4</th>\n      <td>229-222@8dy-rf7-649</td>\n      <td>French Riviera Spa</td>\n      <td>2.207101e+11</td>\n      <td>{\"220510249002\": 103.42595947014821, \"22071010...</td>\n      <td>29.962419</td>\n      <td>-90.117967</td>\n      <td>_y1Sa3lMU51_C0sR8hb5vQ</td>\n      <td>French Riviera Spa</td>\n      <td>8350 Earhart Blvd</td>\n      <td>New Orleans</td>\n      <td>...</td>\n      <td>29.962417</td>\n      <td>-90.117967</td>\n      <td>2.0</td>\n      <td>15</td>\n      <td>0</td>\n      <td>{'GoodForKids': 'False', 'BusinessAcceptsCredi...</td>\n      <td>Trainers, Fitness &amp; Instruction, Gyms, Active ...</td>\n      <td>{'Monday': '5:0-22:0', 'Tuesday': '5:0-22:0', ...</td>\n      <td>both</td>\n      <td>0.000191</td>\n    </tr>\n  </tbody>\n</table>\n<p>5 rows × 22 columns</p>\n</div>"
     },
     "execution_count": 5,
     "metadata": {},
     "output_type": "execute_result"
    }
   ],
   "source": [
    "matched_df = pd.merge(poi_datasets_df, business_df, left_on='location_name',right_on='name', how='inner', indicator=True)  \n",
    "\n",
    "therohold = 0.2\n",
    "\n",
    "grouped = matched_df.groupby('placekey')\n",
    "result_df = pd.DataFrame()\n",
    "\n",
    "for (placekey, group) in tqdm(grouped):\n",
    "    if len(group) == 1:\n",
    "        disN7_value = disN7(group['longitude_x'].iloc[0], group['latitude_x'].iloc[0], group['longitude_y'].iloc[0], group['latitude_y'].iloc[0])\n",
    "        group['disN7'] = disN7_value\n",
    "        if disN7_value < therohold:\n",
    "            result_df = result_df.append(group)\n",
    "    else:\n",
    "        group['disN7'] = disN7(group['longitude_x'].iloc[0], group['latitude_x'].iloc[0], group['longitude_y'], group['latitude_y'])\n",
    "        min_disN7_row = group[group['disN7'] == group['disN7'].min()]\n",
    "        if min_disN7_row['disN7'].iloc[0] <therohold:\n",
    "            result_df = result_df.append(min_disN7_row)\n",
    "            \n",
    "print(result_df.shape)\n",
    "result_df = result_df.sort_values(by='disN7').drop_duplicates(subset='business_id', keep='first').reset_index(drop=True)\n",
    "print(result_df.shape)\n",
    "result_df.head()"
   ]
  },
  {
   "cell_type": "code",
   "execution_count": 6,
   "id": "f50532b0e6544b43",
   "metadata": {
    "ExecuteTime": {
     "end_time": "2025-01-22T10:04:18.493377400Z",
     "start_time": "2025-01-22T10:04:17.990843400Z"
    }
   },
   "outputs": [
    {
     "name": "stdout",
     "output_type": "stream",
     "text": [
      "New Orleans city: 7145 POI in SafeGraph,6261 POI in Yelp, 2588 POI matched\n"
     ]
    }
   ],
   "source": [
    "result_df.drop(columns= ['latitude_y', 'longitude_y', '_merge', 'disN7', 'city', 'state', 'postal_code'], inplace=True) # 'geometry',\n",
    "result_df.rename(columns={'latitude_x': 'latitude', 'longitude_x': 'longitude'}, inplace=True)\n",
    "result_df.sort_values(by='placekey', inplace=True)\n",
    "result_df.reset_index(drop=True, inplace=True)\n",
    "print(f\"{city} city: {poi_datasets_df.shape[0]} POI in SafeGraph,{business_df.shape[0]} POI in Yelp, \"\n",
    "      f\"{result_df.shape[0]} POI matched\")"
   ]
  },
  {
   "cell_type": "code",
   "execution_count": 7,
   "outputs": [
    {
     "name": "stdout",
     "output_type": "stream",
     "text": [
      "2392 after filted\n"
     ]
    },
    {
     "data": {
      "text/plain": "              placekey         location_name       poi_cbg  \\\n0  222-222@8dy-qs9-p9z     The Radiator Shop  2.207100e+11   \n1  222-222@8dy-qs9-pd9         Daiquiri Chef  2.207100e+11   \n2  222-222@8dy-qsb-249               Wendy's  2.207100e+11   \n3  222-222@8dy-qsb-3bk            McDonald's  2.207101e+11   \n4  222-222@8dy-qsc-9j9  Pepperoni Ray's Cafe  2.207100e+11   \n\n                                   visitor_home_cbgs   latitude  longitude  \\\n0  {\"220710017351\": 292.0178718135912, \"220710033...  30.007954 -90.020985   \n1  {\"220710017511\": 643.0514205032194, \"220710017...  30.008492 -90.021147   \n2  {\"220710017352\": 757.0820159395057, \"220710033...  30.006397 -90.034648   \n3  {\"220710017203\": 1810.766465233393, \"220710017...  30.004355 -90.036442   \n4  {\"220710138002\": 122.33900789319748, \"22071002...  30.013102 -90.050696   \n\n              business_id                  name                 address  \\\n0  89xXxx8dFbT7mVmOyH82jA     The Radiator Shop         3722 Downman Rd   \n1  Ggh6vaYzcOGoQ57w1NOFCQ         Daiquiri Chef         3738 Downman Rd   \n2  XJQTL0Sjv2eWCdE4_c1J4A               Wendy's  4605 Chef Menteur Hwy.   \n3  -9yzQQ0d_rcOD2CzdTNO_Q            McDonald's          4240 Louisa St   \n4  uM1ahq0ZG5utDIV3JwjHyA  Pepperoni Ray's Cafe       5339 Franklin Ave   \n\n   stars  review_count  is_open  \\\n0    3.5             5        1   \n1    4.0            14        0   \n2    2.5            14        1   \n3    2.0            20        1   \n4    4.5            42        1   \n\n                                          attributes  \\\n0             {'BusinessAcceptsCreditCards': 'True'}   \n1  {'BikeParking': 'True', 'OutdoorSeating': 'Fal...   \n2  {'GoodForKids': 'True', 'BusinessParking': \"{'...   \n3  {'HasTV': 'True', 'NoiseLevel': \"u'loud'\", 'Re...   \n4  {'GoodForMeal': \"{'dessert': False, 'latenight...   \n\n                                          categories  \\\n0  Auto Parts & Supplies, Home Services, Auto Rep...   \n1  Nightlife, Bars, Cocktail Bars, Drive-Thru Bar...   \n2          Fast Food, Restaurants, Hot Dogs, Burgers   \n3  Fast Food, Restaurants, Coffee & Tea, Food, Bu...   \n4    Cafes, Pizza, Chicken Wings, Restaurants, Salad   \n\n                                               hours  different_cbg_num  \\\n0  {'Monday': '8:0-17:0', 'Tuesday': '8:0-17:0', ...                 25   \n1  {'Monday': '14:0-23:0', 'Tuesday': '15:0-23:0'...                 65   \n2  {'Monday': '10:0-2:0', 'Tuesday': '10:0-2:0', ...                194   \n3  {'Monday': '0:0-0:0', 'Tuesday': '0:0-0:0', 'W...                288   \n4  {'Monday': '15:0-20:0', 'Tuesday': '15:0-20:0'...                 15   \n\n   sum_visitors  \n0   3262.656319  \n1   8229.103764  \n2  39393.926626  \n3  88230.909870  \n4   1839.890153  ",
      "text/html": "<div>\n<style scoped>\n    .dataframe tbody tr th:only-of-type {\n        vertical-align: middle;\n    }\n\n    .dataframe tbody tr th {\n        vertical-align: top;\n    }\n\n    .dataframe thead th {\n        text-align: right;\n    }\n</style>\n<table border=\"1\" class=\"dataframe\">\n  <thead>\n    <tr style=\"text-align: right;\">\n      <th></th>\n      <th>placekey</th>\n      <th>location_name</th>\n      <th>poi_cbg</th>\n      <th>visitor_home_cbgs</th>\n      <th>latitude</th>\n      <th>longitude</th>\n      <th>business_id</th>\n      <th>name</th>\n      <th>address</th>\n      <th>stars</th>\n      <th>review_count</th>\n      <th>is_open</th>\n      <th>attributes</th>\n      <th>categories</th>\n      <th>hours</th>\n      <th>different_cbg_num</th>\n      <th>sum_visitors</th>\n    </tr>\n  </thead>\n  <tbody>\n    <tr>\n      <th>0</th>\n      <td>222-222@8dy-qs9-p9z</td>\n      <td>The Radiator Shop</td>\n      <td>2.207100e+11</td>\n      <td>{\"220710017351\": 292.0178718135912, \"220710033...</td>\n      <td>30.007954</td>\n      <td>-90.020985</td>\n      <td>89xXxx8dFbT7mVmOyH82jA</td>\n      <td>The Radiator Shop</td>\n      <td>3722 Downman Rd</td>\n      <td>3.5</td>\n      <td>5</td>\n      <td>1</td>\n      <td>{'BusinessAcceptsCreditCards': 'True'}</td>\n      <td>Auto Parts &amp; Supplies, Home Services, Auto Rep...</td>\n      <td>{'Monday': '8:0-17:0', 'Tuesday': '8:0-17:0', ...</td>\n      <td>25</td>\n      <td>3262.656319</td>\n    </tr>\n    <tr>\n      <th>1</th>\n      <td>222-222@8dy-qs9-pd9</td>\n      <td>Daiquiri Chef</td>\n      <td>2.207100e+11</td>\n      <td>{\"220710017511\": 643.0514205032194, \"220710017...</td>\n      <td>30.008492</td>\n      <td>-90.021147</td>\n      <td>Ggh6vaYzcOGoQ57w1NOFCQ</td>\n      <td>Daiquiri Chef</td>\n      <td>3738 Downman Rd</td>\n      <td>4.0</td>\n      <td>14</td>\n      <td>0</td>\n      <td>{'BikeParking': 'True', 'OutdoorSeating': 'Fal...</td>\n      <td>Nightlife, Bars, Cocktail Bars, Drive-Thru Bar...</td>\n      <td>{'Monday': '14:0-23:0', 'Tuesday': '15:0-23:0'...</td>\n      <td>65</td>\n      <td>8229.103764</td>\n    </tr>\n    <tr>\n      <th>2</th>\n      <td>222-222@8dy-qsb-249</td>\n      <td>Wendy's</td>\n      <td>2.207100e+11</td>\n      <td>{\"220710017352\": 757.0820159395057, \"220710033...</td>\n      <td>30.006397</td>\n      <td>-90.034648</td>\n      <td>XJQTL0Sjv2eWCdE4_c1J4A</td>\n      <td>Wendy's</td>\n      <td>4605 Chef Menteur Hwy.</td>\n      <td>2.5</td>\n      <td>14</td>\n      <td>1</td>\n      <td>{'GoodForKids': 'True', 'BusinessParking': \"{'...</td>\n      <td>Fast Food, Restaurants, Hot Dogs, Burgers</td>\n      <td>{'Monday': '10:0-2:0', 'Tuesday': '10:0-2:0', ...</td>\n      <td>194</td>\n      <td>39393.926626</td>\n    </tr>\n    <tr>\n      <th>3</th>\n      <td>222-222@8dy-qsb-3bk</td>\n      <td>McDonald's</td>\n      <td>2.207101e+11</td>\n      <td>{\"220710017203\": 1810.766465233393, \"220710017...</td>\n      <td>30.004355</td>\n      <td>-90.036442</td>\n      <td>-9yzQQ0d_rcOD2CzdTNO_Q</td>\n      <td>McDonald's</td>\n      <td>4240 Louisa St</td>\n      <td>2.0</td>\n      <td>20</td>\n      <td>1</td>\n      <td>{'HasTV': 'True', 'NoiseLevel': \"u'loud'\", 'Re...</td>\n      <td>Fast Food, Restaurants, Coffee &amp; Tea, Food, Bu...</td>\n      <td>{'Monday': '0:0-0:0', 'Tuesday': '0:0-0:0', 'W...</td>\n      <td>288</td>\n      <td>88230.909870</td>\n    </tr>\n    <tr>\n      <th>4</th>\n      <td>222-222@8dy-qsc-9j9</td>\n      <td>Pepperoni Ray's Cafe</td>\n      <td>2.207100e+11</td>\n      <td>{\"220710138002\": 122.33900789319748, \"22071002...</td>\n      <td>30.013102</td>\n      <td>-90.050696</td>\n      <td>uM1ahq0ZG5utDIV3JwjHyA</td>\n      <td>Pepperoni Ray's Cafe</td>\n      <td>5339 Franklin Ave</td>\n      <td>4.5</td>\n      <td>42</td>\n      <td>1</td>\n      <td>{'GoodForMeal': \"{'dessert': False, 'latenight...</td>\n      <td>Cafes, Pizza, Chicken Wings, Restaurants, Salad</td>\n      <td>{'Monday': '15:0-20:0', 'Tuesday': '15:0-20:0'...</td>\n      <td>15</td>\n      <td>1839.890153</td>\n    </tr>\n  </tbody>\n</table>\n</div>"
     },
     "execution_count": 7,
     "metadata": {},
     "output_type": "execute_result"
    }
   ],
   "source": [
    "# delete those POIs whose visitor_num<500 or sum_visitors<500 \n",
    "result_df['different_cbg_num'] = [x.count(\":\") for x in result_df.visitor_home_cbgs]\n",
    "result_df['sum_visitors'] = result_df['visitor_home_cbgs'].apply(lambda x:sum(ast.literal_eval(x).values()))\n",
    "result_df = result_df[result_df.different_cbg_num >= 5]\n",
    "result_df = result_df[result_df.sum_visitors >= 500]\n",
    "print(f\"{result_df.shape[0]} after filted\")\n",
    "result_df.head()"
   ],
   "metadata": {
    "collapsed": false,
    "ExecuteTime": {
     "end_time": "2025-01-22T10:04:18.641853Z",
     "start_time": "2025-01-22T10:04:18.493377400Z"
    }
   },
   "id": "43307fa15fe342e4"
  },
  {
   "cell_type": "markdown",
   "source": [
    "# get Review\n",
    "\n",
    "['review_id', 'user_id', 'business_id', 'stars', 'useful', 'funny',\n",
    "       'cool', 'text', 'date']\n",
    "       6990280"
   ],
   "metadata": {
    "collapsed": false
   },
   "id": "3504aca58b48ae73"
  },
  {
   "cell_type": "code",
   "execution_count": 8,
   "outputs": [
    {
     "data": {
      "text/plain": "                review_id                 user_id             business_id  \\\n0  KU_O5udG6zpxOg-VcAEodg  mh_-eMZ6K5RLWhZyISBhwA  XQfwVwDr-v0ZS3_CbbE5Xw   \n1  BiTunyQ73aT9WBnpR9DZGw  OyoGAe7OKpv6SyGZT5g77Q  7ATYjTIgM3jUlt4UM3IypQ   \n2  saUsX_uimxRlCVr67Z4Jig  8g_iMtfSiwikVnbP2etR0A  YjUWPpI6HXG530lwP-fb2A   \n3  AqPFMleE6RsU23_auESxiA  _7bHUi9Uuf5__HHc_Q8guQ  kxX2SOes4o-D3ZQBkiMRfA   \n4  Sx8TMOWLNuJBWer-0pcmoA  bcjbaE6dDog4jkNY91ncLQ  e4Vwtrqf-wpJfwesgvdgxQ   \n\n   stars  useful  funny  cool  \\\n0    3.0       0      0     0   \n1    5.0       1      0     1   \n2    3.0       0      0     0   \n3    5.0       1      0     1   \n4    4.0       1      0     1   \n\n                                                text                 date  \n0  If you decide to eat here, just be aware it is...  2018-07-07 22:09:11  \n1  I've taken a lot of spin classes over the year...  2012-01-03 15:28:18  \n2  Family diner. Had the buffet. Eclectic assortm...  2014-02-05 20:30:30  \n3  Wow!  Yummy, different,  delicious.   Our favo...  2015-01-04 00:01:03  \n4  Cute interior and owner (?) gave us tour of up...  2017-01-14 20:54:15  ",
      "text/html": "<div>\n<style scoped>\n    .dataframe tbody tr th:only-of-type {\n        vertical-align: middle;\n    }\n\n    .dataframe tbody tr th {\n        vertical-align: top;\n    }\n\n    .dataframe thead th {\n        text-align: right;\n    }\n</style>\n<table border=\"1\" class=\"dataframe\">\n  <thead>\n    <tr style=\"text-align: right;\">\n      <th></th>\n      <th>review_id</th>\n      <th>user_id</th>\n      <th>business_id</th>\n      <th>stars</th>\n      <th>useful</th>\n      <th>funny</th>\n      <th>cool</th>\n      <th>text</th>\n      <th>date</th>\n    </tr>\n  </thead>\n  <tbody>\n    <tr>\n      <th>0</th>\n      <td>KU_O5udG6zpxOg-VcAEodg</td>\n      <td>mh_-eMZ6K5RLWhZyISBhwA</td>\n      <td>XQfwVwDr-v0ZS3_CbbE5Xw</td>\n      <td>3.0</td>\n      <td>0</td>\n      <td>0</td>\n      <td>0</td>\n      <td>If you decide to eat here, just be aware it is...</td>\n      <td>2018-07-07 22:09:11</td>\n    </tr>\n    <tr>\n      <th>1</th>\n      <td>BiTunyQ73aT9WBnpR9DZGw</td>\n      <td>OyoGAe7OKpv6SyGZT5g77Q</td>\n      <td>7ATYjTIgM3jUlt4UM3IypQ</td>\n      <td>5.0</td>\n      <td>1</td>\n      <td>0</td>\n      <td>1</td>\n      <td>I've taken a lot of spin classes over the year...</td>\n      <td>2012-01-03 15:28:18</td>\n    </tr>\n    <tr>\n      <th>2</th>\n      <td>saUsX_uimxRlCVr67Z4Jig</td>\n      <td>8g_iMtfSiwikVnbP2etR0A</td>\n      <td>YjUWPpI6HXG530lwP-fb2A</td>\n      <td>3.0</td>\n      <td>0</td>\n      <td>0</td>\n      <td>0</td>\n      <td>Family diner. Had the buffet. Eclectic assortm...</td>\n      <td>2014-02-05 20:30:30</td>\n    </tr>\n    <tr>\n      <th>3</th>\n      <td>AqPFMleE6RsU23_auESxiA</td>\n      <td>_7bHUi9Uuf5__HHc_Q8guQ</td>\n      <td>kxX2SOes4o-D3ZQBkiMRfA</td>\n      <td>5.0</td>\n      <td>1</td>\n      <td>0</td>\n      <td>1</td>\n      <td>Wow!  Yummy, different,  delicious.   Our favo...</td>\n      <td>2015-01-04 00:01:03</td>\n    </tr>\n    <tr>\n      <th>4</th>\n      <td>Sx8TMOWLNuJBWer-0pcmoA</td>\n      <td>bcjbaE6dDog4jkNY91ncLQ</td>\n      <td>e4Vwtrqf-wpJfwesgvdgxQ</td>\n      <td>4.0</td>\n      <td>1</td>\n      <td>0</td>\n      <td>1</td>\n      <td>Cute interior and owner (?) gave us tour of up...</td>\n      <td>2017-01-14 20:54:15</td>\n    </tr>\n  </tbody>\n</table>\n</div>"
     },
     "execution_count": 8,
     "metadata": {},
     "output_type": "execute_result"
    }
   ],
   "source": [
    "yelp_reviews_file_name = 'yelp_academic_dataset_review.json'\n",
    "yelp_reviews_file_path = yelp_path+yelp_reviews_file_name\n",
    "\n",
    "all_data_temp=[]\n",
    "business_id_temp=[]\n",
    "with open(yelp_reviews_file_path, 'r', encoding='utf-8') as file:\n",
    "    for line in file:\n",
    "        try:\n",
    "            data_temp = json.loads(line)\n",
    "            all_data_temp.append(data_temp)\n",
    "        except json.JSONDecodeError as e: \n",
    "            print(f\"Error parsing JSON object on line: {file.lineno()} - {e}\")\n",
    "review_df = pd.DataFrame(all_data_temp)    \n",
    "\n",
    "# print(review_df.shape) #(6990280, 9)\n",
    "# print(review_df.columns) #['review_id', 'user_id', 'business_id', 'stars', 'useful', 'funny', 'cool', 'text', 'date']\n",
    "review_df.head(5)"
   ],
   "metadata": {
    "collapsed": false,
    "ExecuteTime": {
     "end_time": "2025-01-22T10:05:50.467183500Z",
     "start_time": "2025-01-22T10:04:26.592121900Z"
    }
   },
   "id": "a6654023b843b5f1"
  },
  {
   "cell_type": "code",
   "execution_count": 9,
   "outputs": [
    {
     "name": "stdout",
     "output_type": "stream",
     "text": [
      "(356016, 9)\n"
     ]
    }
   ],
   "source": [
    "filtered_review_df = review_df[review_df['business_id'].isin(result_df['business_id'])]\n",
    "del review_df\n",
    "filtered_review_df.sort_values(by='business_id', inplace=True)\n",
    "filtered_review_df.reset_index(drop=True, inplace=True)\n",
    "\n",
    "print(filtered_review_df.shape)\n",
    "# filtered_review_df.head()"
   ],
   "metadata": {
    "collapsed": false,
    "ExecuteTime": {
     "end_time": "2025-01-22T10:05:54.331605500Z",
     "start_time": "2025-01-22T10:05:51.593649400Z"
    }
   },
   "id": "b09af1ef1d745ce3"
  },
  {
   "cell_type": "code",
   "execution_count": 10,
   "outputs": [
    {
     "name": "stderr",
     "output_type": "stream",
     "text": [
      "100%|██████████| 2392/2392 [00:37<00:00, 63.70it/s] \n"
     ]
    }
   ],
   "source": [
    "grouped = filtered_review_df.groupby('business_id')\n",
    "\n",
    "result_df['review'] = None\n",
    "\n",
    "for business_id, group in tqdm(grouped):\n",
    "    corresponding_rows = result_df[result_df['business_id'] == business_id]\n",
    "    if corresponding_rows.shape[0]>1:\n",
    "        print(corresponding_rows)\n",
    "    if not corresponding_rows.empty:\n",
    "        review_list = []\n",
    "        for index, row in group.iterrows():\n",
    "            review_dict = {\n",
    "                'stars': row['stars'],\n",
    "                'useful': row['useful'],\n",
    "                'funny': row['funny'],\n",
    "                'cool': row['cool'],\n",
    "                'text': row['text'],\n",
    "                'date': row['date']\n",
    "            }\n",
    "            review_list.append(review_dict)\n",
    "        for index, row in corresponding_rows.iterrows():\n",
    "            result_df.at[index, 'review'] = review_list \n"
   ],
   "metadata": {
    "collapsed": false,
    "ExecuteTime": {
     "end_time": "2025-01-22T10:06:38.091010300Z",
     "start_time": "2025-01-22T10:06:00.083350500Z"
    }
   },
   "id": "6a67931db1a04ece"
  },
  {
   "cell_type": "code",
   "execution_count": 11,
   "outputs": [
    {
     "name": "stdout",
     "output_type": "stream",
     "text": [
      "review_num min:5\n"
     ]
    },
    {
     "data": {
      "text/plain": "              placekey         location_name       poi_cbg  \\\n0  222-222@8dy-qs9-p9z     The Radiator Shop  2.207100e+11   \n1  222-222@8dy-qs9-pd9         Daiquiri Chef  2.207100e+11   \n2  222-222@8dy-qsb-249               Wendy's  2.207100e+11   \n3  222-222@8dy-qsb-3bk            McDonald's  2.207101e+11   \n4  222-222@8dy-qsc-9j9  Pepperoni Ray's Cafe  2.207100e+11   \n\n                                   visitor_home_cbgs   latitude  longitude  \\\n0  {\"220710017351\": 292.0178718135912, \"220710033...  30.007954 -90.020985   \n1  {\"220710017511\": 643.0514205032194, \"220710017...  30.008492 -90.021147   \n2  {\"220710017352\": 757.0820159395057, \"220710033...  30.006397 -90.034648   \n3  {\"220710017203\": 1810.766465233393, \"220710017...  30.004355 -90.036442   \n4  {\"220710138002\": 122.33900789319748, \"22071002...  30.013102 -90.050696   \n\n              business_id                  name                 address  \\\n0  89xXxx8dFbT7mVmOyH82jA     The Radiator Shop         3722 Downman Rd   \n1  Ggh6vaYzcOGoQ57w1NOFCQ         Daiquiri Chef         3738 Downman Rd   \n2  XJQTL0Sjv2eWCdE4_c1J4A               Wendy's  4605 Chef Menteur Hwy.   \n3  -9yzQQ0d_rcOD2CzdTNO_Q            McDonald's          4240 Louisa St   \n4  uM1ahq0ZG5utDIV3JwjHyA  Pepperoni Ray's Cafe       5339 Franklin Ave   \n\n   stars  review_count  is_open  \\\n0    3.5             5        1   \n1    4.0            14        0   \n2    2.5            14        1   \n3    2.0            20        1   \n4    4.5            42        1   \n\n                                          attributes  \\\n0             {'BusinessAcceptsCreditCards': 'True'}   \n1  {'BikeParking': 'True', 'OutdoorSeating': 'Fal...   \n2  {'GoodForKids': 'True', 'BusinessParking': \"{'...   \n3  {'HasTV': 'True', 'NoiseLevel': \"u'loud'\", 'Re...   \n4  {'GoodForMeal': \"{'dessert': False, 'latenight...   \n\n                                          categories  \\\n0  Auto Parts & Supplies, Home Services, Auto Rep...   \n1  Nightlife, Bars, Cocktail Bars, Drive-Thru Bar...   \n2          Fast Food, Restaurants, Hot Dogs, Burgers   \n3  Fast Food, Restaurants, Coffee & Tea, Food, Bu...   \n4    Cafes, Pizza, Chicken Wings, Restaurants, Salad   \n\n                                               hours  different_cbg_num  \\\n0  {'Monday': '8:0-17:0', 'Tuesday': '8:0-17:0', ...                 25   \n1  {'Monday': '14:0-23:0', 'Tuesday': '15:0-23:0'...                 65   \n2  {'Monday': '10:0-2:0', 'Tuesday': '10:0-2:0', ...                194   \n3  {'Monday': '0:0-0:0', 'Tuesday': '0:0-0:0', 'W...                288   \n4  {'Monday': '15:0-20:0', 'Tuesday': '15:0-20:0'...                 15   \n\n   sum_visitors                                             review  review_num  \n0   3262.656319  [{'stars': 5.0, 'useful': 5, 'funny': 1, 'cool...           8  \n1   8229.103764  [{'stars': 5.0, 'useful': 1, 'funny': 0, 'cool...          14  \n2  39393.926626  [{'stars': 4.0, 'useful': 0, 'funny': 0, 'cool...          15  \n3  88230.909870  [{'stars': 4.0, 'useful': 1, 'funny': 1, 'cool...          20  \n4   1839.890153  [{'stars': 1.0, 'useful': 0, 'funny': 0, 'cool...          42  ",
      "text/html": "<div>\n<style scoped>\n    .dataframe tbody tr th:only-of-type {\n        vertical-align: middle;\n    }\n\n    .dataframe tbody tr th {\n        vertical-align: top;\n    }\n\n    .dataframe thead th {\n        text-align: right;\n    }\n</style>\n<table border=\"1\" class=\"dataframe\">\n  <thead>\n    <tr style=\"text-align: right;\">\n      <th></th>\n      <th>placekey</th>\n      <th>location_name</th>\n      <th>poi_cbg</th>\n      <th>visitor_home_cbgs</th>\n      <th>latitude</th>\n      <th>longitude</th>\n      <th>business_id</th>\n      <th>name</th>\n      <th>address</th>\n      <th>stars</th>\n      <th>review_count</th>\n      <th>is_open</th>\n      <th>attributes</th>\n      <th>categories</th>\n      <th>hours</th>\n      <th>different_cbg_num</th>\n      <th>sum_visitors</th>\n      <th>review</th>\n      <th>review_num</th>\n    </tr>\n  </thead>\n  <tbody>\n    <tr>\n      <th>0</th>\n      <td>222-222@8dy-qs9-p9z</td>\n      <td>The Radiator Shop</td>\n      <td>2.207100e+11</td>\n      <td>{\"220710017351\": 292.0178718135912, \"220710033...</td>\n      <td>30.007954</td>\n      <td>-90.020985</td>\n      <td>89xXxx8dFbT7mVmOyH82jA</td>\n      <td>The Radiator Shop</td>\n      <td>3722 Downman Rd</td>\n      <td>3.5</td>\n      <td>5</td>\n      <td>1</td>\n      <td>{'BusinessAcceptsCreditCards': 'True'}</td>\n      <td>Auto Parts &amp; Supplies, Home Services, Auto Rep...</td>\n      <td>{'Monday': '8:0-17:0', 'Tuesday': '8:0-17:0', ...</td>\n      <td>25</td>\n      <td>3262.656319</td>\n      <td>[{'stars': 5.0, 'useful': 5, 'funny': 1, 'cool...</td>\n      <td>8</td>\n    </tr>\n    <tr>\n      <th>1</th>\n      <td>222-222@8dy-qs9-pd9</td>\n      <td>Daiquiri Chef</td>\n      <td>2.207100e+11</td>\n      <td>{\"220710017511\": 643.0514205032194, \"220710017...</td>\n      <td>30.008492</td>\n      <td>-90.021147</td>\n      <td>Ggh6vaYzcOGoQ57w1NOFCQ</td>\n      <td>Daiquiri Chef</td>\n      <td>3738 Downman Rd</td>\n      <td>4.0</td>\n      <td>14</td>\n      <td>0</td>\n      <td>{'BikeParking': 'True', 'OutdoorSeating': 'Fal...</td>\n      <td>Nightlife, Bars, Cocktail Bars, Drive-Thru Bar...</td>\n      <td>{'Monday': '14:0-23:0', 'Tuesday': '15:0-23:0'...</td>\n      <td>65</td>\n      <td>8229.103764</td>\n      <td>[{'stars': 5.0, 'useful': 1, 'funny': 0, 'cool...</td>\n      <td>14</td>\n    </tr>\n    <tr>\n      <th>2</th>\n      <td>222-222@8dy-qsb-249</td>\n      <td>Wendy's</td>\n      <td>2.207100e+11</td>\n      <td>{\"220710017352\": 757.0820159395057, \"220710033...</td>\n      <td>30.006397</td>\n      <td>-90.034648</td>\n      <td>XJQTL0Sjv2eWCdE4_c1J4A</td>\n      <td>Wendy's</td>\n      <td>4605 Chef Menteur Hwy.</td>\n      <td>2.5</td>\n      <td>14</td>\n      <td>1</td>\n      <td>{'GoodForKids': 'True', 'BusinessParking': \"{'...</td>\n      <td>Fast Food, Restaurants, Hot Dogs, Burgers</td>\n      <td>{'Monday': '10:0-2:0', 'Tuesday': '10:0-2:0', ...</td>\n      <td>194</td>\n      <td>39393.926626</td>\n      <td>[{'stars': 4.0, 'useful': 0, 'funny': 0, 'cool...</td>\n      <td>15</td>\n    </tr>\n    <tr>\n      <th>3</th>\n      <td>222-222@8dy-qsb-3bk</td>\n      <td>McDonald's</td>\n      <td>2.207101e+11</td>\n      <td>{\"220710017203\": 1810.766465233393, \"220710017...</td>\n      <td>30.004355</td>\n      <td>-90.036442</td>\n      <td>-9yzQQ0d_rcOD2CzdTNO_Q</td>\n      <td>McDonald's</td>\n      <td>4240 Louisa St</td>\n      <td>2.0</td>\n      <td>20</td>\n      <td>1</td>\n      <td>{'HasTV': 'True', 'NoiseLevel': \"u'loud'\", 'Re...</td>\n      <td>Fast Food, Restaurants, Coffee &amp; Tea, Food, Bu...</td>\n      <td>{'Monday': '0:0-0:0', 'Tuesday': '0:0-0:0', 'W...</td>\n      <td>288</td>\n      <td>88230.909870</td>\n      <td>[{'stars': 4.0, 'useful': 1, 'funny': 1, 'cool...</td>\n      <td>20</td>\n    </tr>\n    <tr>\n      <th>4</th>\n      <td>222-222@8dy-qsc-9j9</td>\n      <td>Pepperoni Ray's Cafe</td>\n      <td>2.207100e+11</td>\n      <td>{\"220710138002\": 122.33900789319748, \"22071002...</td>\n      <td>30.013102</td>\n      <td>-90.050696</td>\n      <td>uM1ahq0ZG5utDIV3JwjHyA</td>\n      <td>Pepperoni Ray's Cafe</td>\n      <td>5339 Franklin Ave</td>\n      <td>4.5</td>\n      <td>42</td>\n      <td>1</td>\n      <td>{'GoodForMeal': \"{'dessert': False, 'latenight...</td>\n      <td>Cafes, Pizza, Chicken Wings, Restaurants, Salad</td>\n      <td>{'Monday': '15:0-20:0', 'Tuesday': '15:0-20:0'...</td>\n      <td>15</td>\n      <td>1839.890153</td>\n      <td>[{'stars': 1.0, 'useful': 0, 'funny': 0, 'cool...</td>\n      <td>42</td>\n    </tr>\n  </tbody>\n</table>\n</div>"
     },
     "execution_count": 11,
     "metadata": {},
     "output_type": "execute_result"
    }
   ],
   "source": [
    "# print(type(result_df.loc[0,'review'])) #list\n",
    "result_df['review_num']=result_df['review'].apply(lambda x:len(x))\n",
    "print(f\"review_num min:{result_df.review_num.min()}\")\n",
    "result_df.head()"
   ],
   "metadata": {
    "collapsed": false,
    "ExecuteTime": {
     "end_time": "2025-01-22T10:06:38.555652700Z",
     "start_time": "2025-01-22T10:06:38.555652700Z"
    }
   },
   "id": "395bf7a9d9f2586d"
  },
  {
   "cell_type": "markdown",
   "source": [
    "# Get images\n",
    "images_df  200100\n",
    "['photo_id', 'business_id', 'caption', 'label']"
   ],
   "metadata": {
    "collapsed": false
   },
   "id": "f56c0867f06ad4c3"
  },
  {
   "cell_type": "code",
   "execution_count": 12,
   "outputs": [
    {
     "name": "stdout",
     "output_type": "stream",
     "text": [
      "(200100, 4)\n",
      "Index(['photo_id', 'business_id', 'caption', 'label'], dtype='object')\n"
     ]
    },
    {
     "data": {
      "text/plain": "                 photo_id             business_id  \\\n0  zsvj7vloL4L5jhYyPIuVwg  Nk-SJhPlDBkAZvfsADtccA   \n1  HCUdRJHHm_e0OCTlZetGLg  yVZtL5MmrpiivyCIrVkGgA   \n2  vkr8T0scuJmGVvN2HJelEA  _ab50qdWOk0DdB6XOrBitw   \n3  pve7D6NUrafHW3EAORubyw  SZU9c8V2GuREDN5KgyHFJw   \n4  H52Er-uBg6rNrHcReWTD2w  Gzur0f0XMkrVxIwYJvOt2g   \n\n                                             caption    label  \n0  Nice rock artwork everywhere and craploads of ...   inside  \n1                                                     outside  \n2                                     oyster shooter    drink  \n3                                      Shrimp scampi     food  \n4                                                        food  ",
      "text/html": "<div>\n<style scoped>\n    .dataframe tbody tr th:only-of-type {\n        vertical-align: middle;\n    }\n\n    .dataframe tbody tr th {\n        vertical-align: top;\n    }\n\n    .dataframe thead th {\n        text-align: right;\n    }\n</style>\n<table border=\"1\" class=\"dataframe\">\n  <thead>\n    <tr style=\"text-align: right;\">\n      <th></th>\n      <th>photo_id</th>\n      <th>business_id</th>\n      <th>caption</th>\n      <th>label</th>\n    </tr>\n  </thead>\n  <tbody>\n    <tr>\n      <th>0</th>\n      <td>zsvj7vloL4L5jhYyPIuVwg</td>\n      <td>Nk-SJhPlDBkAZvfsADtccA</td>\n      <td>Nice rock artwork everywhere and craploads of ...</td>\n      <td>inside</td>\n    </tr>\n    <tr>\n      <th>1</th>\n      <td>HCUdRJHHm_e0OCTlZetGLg</td>\n      <td>yVZtL5MmrpiivyCIrVkGgA</td>\n      <td></td>\n      <td>outside</td>\n    </tr>\n    <tr>\n      <th>2</th>\n      <td>vkr8T0scuJmGVvN2HJelEA</td>\n      <td>_ab50qdWOk0DdB6XOrBitw</td>\n      <td>oyster shooter</td>\n      <td>drink</td>\n    </tr>\n    <tr>\n      <th>3</th>\n      <td>pve7D6NUrafHW3EAORubyw</td>\n      <td>SZU9c8V2GuREDN5KgyHFJw</td>\n      <td>Shrimp scampi</td>\n      <td>food</td>\n    </tr>\n    <tr>\n      <th>4</th>\n      <td>H52Er-uBg6rNrHcReWTD2w</td>\n      <td>Gzur0f0XMkrVxIwYJvOt2g</td>\n      <td></td>\n      <td>food</td>\n    </tr>\n  </tbody>\n</table>\n</div>"
     },
     "execution_count": 12,
     "metadata": {},
     "output_type": "execute_result"
    }
   ],
   "source": [
    "yelp_images_file_name = 'photos.json'\n",
    "yelp_images_file_path = yelp_path+yelp_images_file_name\n",
    "\n",
    "all_data_temp=[]\n",
    "business_id_temp=[]\n",
    "with open(yelp_images_file_path, 'r', encoding='utf-8') as file:\n",
    "    for line in file:\n",
    "        try:\n",
    "            data_temp = json.loads(line)\n",
    "            all_data_temp.append(data_temp)\n",
    "        except json.JSONDecodeError as e: \n",
    "            print(f\"Error parsing JSON object on line: {file.lineno()} - {e}\")\n",
    "images_df = pd.DataFrame(all_data_temp)    \n",
    "\n",
    "print(images_df.shape)\n",
    "print(images_df.columns)\n",
    "images_df.head(5)"
   ],
   "metadata": {
    "collapsed": false,
    "ExecuteTime": {
     "end_time": "2025-01-22T10:06:50.253445500Z",
     "start_time": "2025-01-22T10:06:48.715156Z"
    }
   },
   "id": "951a87f25b6c862e"
  },
  {
   "cell_type": "code",
   "execution_count": 13,
   "outputs": [
    {
     "name": "stdout",
     "output_type": "stream",
     "text": [
      "(11576, 4)\n"
     ]
    },
    {
     "data": {
      "text/plain": "                 photo_id             business_id                   caption  \\\n0  mE4cpHO-PFul6-cuCI6zeA  -0__F9fnKt8uioCKztF5Ww         Special Cocktail!   \n1  ryMJZ3-87GYPT-eU2m2IIw  -0__F9fnKt8uioCKztF5Ww                             \n2  pQC1WC7E2e0VQ4LPX4gqFw  -0__F9fnKt8uioCKztF5Ww              \"Drunk Tank\"   \n3  kgPd7SPAx15B2obdxH-Nmw  -0__F9fnKt8uioCKztF5Ww  Awesome spicy cocktails!   \n4  zGWdngoiZa3jEMi9SycKvQ  -0__F9fnKt8uioCKztF5Ww                             \n\n   label  \n0  drink  \n1  drink  \n2  drink  \n3  drink  \n4  drink  ",
      "text/html": "<div>\n<style scoped>\n    .dataframe tbody tr th:only-of-type {\n        vertical-align: middle;\n    }\n\n    .dataframe tbody tr th {\n        vertical-align: top;\n    }\n\n    .dataframe thead th {\n        text-align: right;\n    }\n</style>\n<table border=\"1\" class=\"dataframe\">\n  <thead>\n    <tr style=\"text-align: right;\">\n      <th></th>\n      <th>photo_id</th>\n      <th>business_id</th>\n      <th>caption</th>\n      <th>label</th>\n    </tr>\n  </thead>\n  <tbody>\n    <tr>\n      <th>0</th>\n      <td>mE4cpHO-PFul6-cuCI6zeA</td>\n      <td>-0__F9fnKt8uioCKztF5Ww</td>\n      <td>Special Cocktail!</td>\n      <td>drink</td>\n    </tr>\n    <tr>\n      <th>1</th>\n      <td>ryMJZ3-87GYPT-eU2m2IIw</td>\n      <td>-0__F9fnKt8uioCKztF5Ww</td>\n      <td></td>\n      <td>drink</td>\n    </tr>\n    <tr>\n      <th>2</th>\n      <td>pQC1WC7E2e0VQ4LPX4gqFw</td>\n      <td>-0__F9fnKt8uioCKztF5Ww</td>\n      <td>\"Drunk Tank\"</td>\n      <td>drink</td>\n    </tr>\n    <tr>\n      <th>3</th>\n      <td>kgPd7SPAx15B2obdxH-Nmw</td>\n      <td>-0__F9fnKt8uioCKztF5Ww</td>\n      <td>Awesome spicy cocktails!</td>\n      <td>drink</td>\n    </tr>\n    <tr>\n      <th>4</th>\n      <td>zGWdngoiZa3jEMi9SycKvQ</td>\n      <td>-0__F9fnKt8uioCKztF5Ww</td>\n      <td></td>\n      <td>drink</td>\n    </tr>\n  </tbody>\n</table>\n</div>"
     },
     "execution_count": 13,
     "metadata": {},
     "output_type": "execute_result"
    }
   ],
   "source": [
    "filtered_images_df = images_df[images_df['business_id'].isin(result_df['business_id'])]\n",
    "del images_df\n",
    "filtered_images_df.sort_values(by='business_id', inplace=True)\n",
    "filtered_images_df.reset_index(drop=True, inplace=True)\n",
    "\n",
    "print(filtered_images_df.shape)\n",
    "filtered_images_df.head()"
   ],
   "metadata": {
    "collapsed": false,
    "ExecuteTime": {
     "end_time": "2025-01-22T10:06:50.269405300Z",
     "start_time": "2025-01-22T10:06:50.253445500Z"
    }
   },
   "id": "8cce48796ea3053e"
  },
  {
   "cell_type": "code",
   "execution_count": 14,
   "outputs": [
    {
     "name": "stderr",
     "output_type": "stream",
     "text": [
      "100%|██████████| 1136/1136 [00:02<00:00, 537.32it/s]"
     ]
    },
    {
     "name": "stdout",
     "output_type": "stream",
     "text": [
      "Index(['placekey', 'location_name', 'poi_cbg', 'visitor_home_cbgs', 'latitude',\n",
      "       'longitude', 'business_id', 'name', 'address', 'stars', 'review_count',\n",
      "       'is_open', 'attributes', 'categories', 'hours', 'different_cbg_num',\n",
      "       'sum_visitors', 'review', 'review_num', 'images', 'images_num'],\n",
      "      dtype='object')\n",
      "(2392, 21)\n",
      "1136 POI have at least 5 images.\n"
     ]
    },
    {
     "name": "stderr",
     "output_type": "stream",
     "text": [
      "\n"
     ]
    },
    {
     "data": {
      "text/plain": "              placekey         location_name       poi_cbg  \\\n0  222-222@8dy-qs9-p9z     The Radiator Shop  2.207100e+11   \n1  222-222@8dy-qs9-pd9         Daiquiri Chef  2.207100e+11   \n2  222-222@8dy-qsb-249               Wendy's  2.207100e+11   \n3  222-222@8dy-qsb-3bk            McDonald's  2.207101e+11   \n4  222-222@8dy-qsc-9j9  Pepperoni Ray's Cafe  2.207100e+11   \n\n                                   visitor_home_cbgs   latitude  longitude  \\\n0  {\"220710017351\": 292.0178718135912, \"220710033...  30.007954 -90.020985   \n1  {\"220710017511\": 643.0514205032194, \"220710017...  30.008492 -90.021147   \n2  {\"220710017352\": 757.0820159395057, \"220710033...  30.006397 -90.034648   \n3  {\"220710017203\": 1810.766465233393, \"220710017...  30.004355 -90.036442   \n4  {\"220710138002\": 122.33900789319748, \"22071002...  30.013102 -90.050696   \n\n              business_id                  name                 address  \\\n0  89xXxx8dFbT7mVmOyH82jA     The Radiator Shop         3722 Downman Rd   \n1  Ggh6vaYzcOGoQ57w1NOFCQ         Daiquiri Chef         3738 Downman Rd   \n2  XJQTL0Sjv2eWCdE4_c1J4A               Wendy's  4605 Chef Menteur Hwy.   \n3  -9yzQQ0d_rcOD2CzdTNO_Q            McDonald's          4240 Louisa St   \n4  uM1ahq0ZG5utDIV3JwjHyA  Pepperoni Ray's Cafe       5339 Franklin Ave   \n\n   stars  ...  is_open                                         attributes  \\\n0    3.5  ...        1             {'BusinessAcceptsCreditCards': 'True'}   \n1    4.0  ...        0  {'BikeParking': 'True', 'OutdoorSeating': 'Fal...   \n2    2.5  ...        1  {'GoodForKids': 'True', 'BusinessParking': \"{'...   \n3    2.0  ...        1  {'HasTV': 'True', 'NoiseLevel': \"u'loud'\", 'Re...   \n4    4.5  ...        1  {'GoodForMeal': \"{'dessert': False, 'latenight...   \n\n                                          categories  \\\n0  Auto Parts & Supplies, Home Services, Auto Rep...   \n1  Nightlife, Bars, Cocktail Bars, Drive-Thru Bar...   \n2          Fast Food, Restaurants, Hot Dogs, Burgers   \n3  Fast Food, Restaurants, Coffee & Tea, Food, Bu...   \n4    Cafes, Pizza, Chicken Wings, Restaurants, Salad   \n\n                                               hours different_cbg_num  \\\n0  {'Monday': '8:0-17:0', 'Tuesday': '8:0-17:0', ...                25   \n1  {'Monday': '14:0-23:0', 'Tuesday': '15:0-23:0'...                65   \n2  {'Monday': '10:0-2:0', 'Tuesday': '10:0-2:0', ...               194   \n3  {'Monday': '0:0-0:0', 'Tuesday': '0:0-0:0', 'W...               288   \n4  {'Monday': '15:0-20:0', 'Tuesday': '15:0-20:0'...                15   \n\n   sum_visitors                                             review review_num  \\\n0   3262.656319  [{'stars': 5.0, 'useful': 5, 'funny': 1, 'cool...          8   \n1   8229.103764  [{'stars': 5.0, 'useful': 1, 'funny': 0, 'cool...         14   \n2  39393.926626  [{'stars': 4.0, 'useful': 0, 'funny': 0, 'cool...         15   \n3  88230.909870  [{'stars': 4.0, 'useful': 1, 'funny': 1, 'cool...         20   \n4   1839.890153  [{'stars': 1.0, 'useful': 0, 'funny': 0, 'cool...         42   \n\n                                              images images_num  \n0                                               None          0  \n1  [{'photo_id': 'Q10coUruBbaPlS2uL9DHww', 'capti...          1  \n2                                               None          0  \n3                                               None          0  \n4                                               None          0  \n\n[5 rows x 21 columns]",
      "text/html": "<div>\n<style scoped>\n    .dataframe tbody tr th:only-of-type {\n        vertical-align: middle;\n    }\n\n    .dataframe tbody tr th {\n        vertical-align: top;\n    }\n\n    .dataframe thead th {\n        text-align: right;\n    }\n</style>\n<table border=\"1\" class=\"dataframe\">\n  <thead>\n    <tr style=\"text-align: right;\">\n      <th></th>\n      <th>placekey</th>\n      <th>location_name</th>\n      <th>poi_cbg</th>\n      <th>visitor_home_cbgs</th>\n      <th>latitude</th>\n      <th>longitude</th>\n      <th>business_id</th>\n      <th>name</th>\n      <th>address</th>\n      <th>stars</th>\n      <th>...</th>\n      <th>is_open</th>\n      <th>attributes</th>\n      <th>categories</th>\n      <th>hours</th>\n      <th>different_cbg_num</th>\n      <th>sum_visitors</th>\n      <th>review</th>\n      <th>review_num</th>\n      <th>images</th>\n      <th>images_num</th>\n    </tr>\n  </thead>\n  <tbody>\n    <tr>\n      <th>0</th>\n      <td>222-222@8dy-qs9-p9z</td>\n      <td>The Radiator Shop</td>\n      <td>2.207100e+11</td>\n      <td>{\"220710017351\": 292.0178718135912, \"220710033...</td>\n      <td>30.007954</td>\n      <td>-90.020985</td>\n      <td>89xXxx8dFbT7mVmOyH82jA</td>\n      <td>The Radiator Shop</td>\n      <td>3722 Downman Rd</td>\n      <td>3.5</td>\n      <td>...</td>\n      <td>1</td>\n      <td>{'BusinessAcceptsCreditCards': 'True'}</td>\n      <td>Auto Parts &amp; Supplies, Home Services, Auto Rep...</td>\n      <td>{'Monday': '8:0-17:0', 'Tuesday': '8:0-17:0', ...</td>\n      <td>25</td>\n      <td>3262.656319</td>\n      <td>[{'stars': 5.0, 'useful': 5, 'funny': 1, 'cool...</td>\n      <td>8</td>\n      <td>None</td>\n      <td>0</td>\n    </tr>\n    <tr>\n      <th>1</th>\n      <td>222-222@8dy-qs9-pd9</td>\n      <td>Daiquiri Chef</td>\n      <td>2.207100e+11</td>\n      <td>{\"220710017511\": 643.0514205032194, \"220710017...</td>\n      <td>30.008492</td>\n      <td>-90.021147</td>\n      <td>Ggh6vaYzcOGoQ57w1NOFCQ</td>\n      <td>Daiquiri Chef</td>\n      <td>3738 Downman Rd</td>\n      <td>4.0</td>\n      <td>...</td>\n      <td>0</td>\n      <td>{'BikeParking': 'True', 'OutdoorSeating': 'Fal...</td>\n      <td>Nightlife, Bars, Cocktail Bars, Drive-Thru Bar...</td>\n      <td>{'Monday': '14:0-23:0', 'Tuesday': '15:0-23:0'...</td>\n      <td>65</td>\n      <td>8229.103764</td>\n      <td>[{'stars': 5.0, 'useful': 1, 'funny': 0, 'cool...</td>\n      <td>14</td>\n      <td>[{'photo_id': 'Q10coUruBbaPlS2uL9DHww', 'capti...</td>\n      <td>1</td>\n    </tr>\n    <tr>\n      <th>2</th>\n      <td>222-222@8dy-qsb-249</td>\n      <td>Wendy's</td>\n      <td>2.207100e+11</td>\n      <td>{\"220710017352\": 757.0820159395057, \"220710033...</td>\n      <td>30.006397</td>\n      <td>-90.034648</td>\n      <td>XJQTL0Sjv2eWCdE4_c1J4A</td>\n      <td>Wendy's</td>\n      <td>4605 Chef Menteur Hwy.</td>\n      <td>2.5</td>\n      <td>...</td>\n      <td>1</td>\n      <td>{'GoodForKids': 'True', 'BusinessParking': \"{'...</td>\n      <td>Fast Food, Restaurants, Hot Dogs, Burgers</td>\n      <td>{'Monday': '10:0-2:0', 'Tuesday': '10:0-2:0', ...</td>\n      <td>194</td>\n      <td>39393.926626</td>\n      <td>[{'stars': 4.0, 'useful': 0, 'funny': 0, 'cool...</td>\n      <td>15</td>\n      <td>None</td>\n      <td>0</td>\n    </tr>\n    <tr>\n      <th>3</th>\n      <td>222-222@8dy-qsb-3bk</td>\n      <td>McDonald's</td>\n      <td>2.207101e+11</td>\n      <td>{\"220710017203\": 1810.766465233393, \"220710017...</td>\n      <td>30.004355</td>\n      <td>-90.036442</td>\n      <td>-9yzQQ0d_rcOD2CzdTNO_Q</td>\n      <td>McDonald's</td>\n      <td>4240 Louisa St</td>\n      <td>2.0</td>\n      <td>...</td>\n      <td>1</td>\n      <td>{'HasTV': 'True', 'NoiseLevel': \"u'loud'\", 'Re...</td>\n      <td>Fast Food, Restaurants, Coffee &amp; Tea, Food, Bu...</td>\n      <td>{'Monday': '0:0-0:0', 'Tuesday': '0:0-0:0', 'W...</td>\n      <td>288</td>\n      <td>88230.909870</td>\n      <td>[{'stars': 4.0, 'useful': 1, 'funny': 1, 'cool...</td>\n      <td>20</td>\n      <td>None</td>\n      <td>0</td>\n    </tr>\n    <tr>\n      <th>4</th>\n      <td>222-222@8dy-qsc-9j9</td>\n      <td>Pepperoni Ray's Cafe</td>\n      <td>2.207100e+11</td>\n      <td>{\"220710138002\": 122.33900789319748, \"22071002...</td>\n      <td>30.013102</td>\n      <td>-90.050696</td>\n      <td>uM1ahq0ZG5utDIV3JwjHyA</td>\n      <td>Pepperoni Ray's Cafe</td>\n      <td>5339 Franklin Ave</td>\n      <td>4.5</td>\n      <td>...</td>\n      <td>1</td>\n      <td>{'GoodForMeal': \"{'dessert': False, 'latenight...</td>\n      <td>Cafes, Pizza, Chicken Wings, Restaurants, Salad</td>\n      <td>{'Monday': '15:0-20:0', 'Tuesday': '15:0-20:0'...</td>\n      <td>15</td>\n      <td>1839.890153</td>\n      <td>[{'stars': 1.0, 'useful': 0, 'funny': 0, 'cool...</td>\n      <td>42</td>\n      <td>None</td>\n      <td>0</td>\n    </tr>\n  </tbody>\n</table>\n<p>5 rows × 21 columns</p>\n</div>"
     },
     "execution_count": 14,
     "metadata": {},
     "output_type": "execute_result"
    }
   ],
   "source": [
    "grouped = filtered_images_df.groupby('business_id')\n",
    "result_df['images'] = None\n",
    "\n",
    "for business_id, group in tqdm(grouped):\n",
    "    corresponding_rows = result_df[result_df['business_id'] == business_id]\n",
    "    if not corresponding_rows.empty:\n",
    "        images_list = []\n",
    "        for index, row in group.iterrows():\n",
    "            images_dict = {\n",
    "                'photo_id': row['photo_id'],\n",
    "                'caption': row['caption'],\n",
    "                'label': row['label']\n",
    "            }\n",
    "            images_list.append(images_dict)\n",
    "        for index, row in corresponding_rows.iterrows():\n",
    "            result_df.at[index, 'images'] = images_list \n",
    "            \n",
    "result_df['images_num']=result_df['images'].apply(lambda x:len(x) if x is not None else 0)\n",
    "\n",
    "print(result_df.columns)\n",
    "print(result_df.shape)\n",
    "print(f\"{(result_df['images_num']>0).sum()} POI have at least 5 images.\")\n",
    "result_df.head()"
   ],
   "metadata": {
    "collapsed": false,
    "ExecuteTime": {
     "end_time": "2025-01-22T10:06:52.523818300Z",
     "start_time": "2025-01-22T10:06:50.269405300Z"
    }
   },
   "id": "abbabe7648cd8491"
  },
  {
   "cell_type": "code",
   "execution_count": 15,
   "outputs": [],
   "source": [
    "result_df.to_csv(f\"data/{city}/{city}_poi_with_yelp_review_image.csv\",index=False) "
   ],
   "metadata": {
    "collapsed": false,
    "ExecuteTime": {
     "end_time": "2025-01-22T10:06:57.573119500Z",
     "start_time": "2025-01-22T10:06:52.491836100Z"
    }
   },
   "id": "e4c25054c6e2e0ab"
  },
  {
   "cell_type": "markdown",
   "source": [
    "# Get image_text by GPT4v"
   ],
   "metadata": {
    "collapsed": false
   },
   "id": "e4b3fa813d82262f"
  },
  {
   "cell_type": "code",
   "execution_count": 19,
   "outputs": [
    {
     "name": "stdout",
     "output_type": "stream",
     "text": [
      "26736\n"
     ]
    }
   ],
   "source": [
    "city_name = ['New Orleans','Tampa','Reno','Tucson']\n",
    "image_num = 0\n",
    "for city in city_name:\n",
    "    result_df = pd.read_csv(f'data/{city}/{city}_poi_with_yelp_review_image.csv')\n",
    "    image_num += result_df.images_num.sum()\n",
    "print(image_num)"
   ],
   "metadata": {
    "collapsed": false,
    "ExecuteTime": {
     "end_time": "2025-01-22T14:22:52.748218800Z",
     "start_time": "2025-01-22T14:22:47.004280600Z"
    }
   },
   "id": "728eafcf3f34fa47"
  },
  {
   "cell_type": "code",
   "execution_count": 32,
   "outputs": [],
   "source": [
    "import os\n",
    "for index, row in result_df.iterrows():\n",
    "    if row['images_num']>0:\n",
    "        placekey_value = row['placekey']\n",
    "        images_list = ast.literal_eval(row['images'])\n",
    "        for i, image_dict in enumerate(images_list):\n",
    "            photo_id = image_dict.get('photo_id')\n",
    "            if photo_id:\n",
    "                original_photo_path = yelp_path+f'/photos/{photo_id}.jpg'\n",
    "                if os.path.exists(original_photo_path):\n",
    "                    new_photo_path = yelp_path+f'/{city}_images/{placekey_value}_{i}.jpg'\n",
    "                    os.makedirs(os.path.dirname(new_photo_path), exist_ok=True)\n",
    "                    shutil.copyfile(original_photo_path, new_photo_path)\n",
    "                else:\n",
    "                    print(f'File not found: {original_photo_path}')\n",
    "            else:\n",
    "                print(f'Photo ID not found in image dict at index {index}')\n",
    "    else:\n",
    "        \n",
    "        continue"
   ],
   "metadata": {
    "collapsed": false,
    "ExecuteTime": {
     "end_time": "2025-01-22T14:37:32.843691700Z",
     "start_time": "2025-01-22T14:36:57.996033900Z"
    }
   },
   "id": "644b44e6472fa850"
  },
  {
   "cell_type": "code",
   "execution_count": null,
   "outputs": [],
   "source": [
    "from openai import OpenAI\n",
    "import base64\n",
    "import requests\n",
    "import time\n",
    "import pandas as pd\n",
    "import csv\n",
    "import os\n",
    "from openai import AzureOpenAI\n",
    "import openai\n",
    "from PIL import Image\n",
    "\n",
    "\n",
    "# Function to encode the image\n",
    "def encode_image(image_path):\n",
    "    try:\n",
    "        img = Image.open(image_path)\n",
    "        with open(image_path, \"rb\") as image_file:\n",
    "            encoded_image = base64.b64encode(image_file.read()).decode('utf-8')\n",
    "        return encoded_image,0\n",
    "\n",
    "    except Exception as e:\n",
    "        # 如果图片无法识别，记录文件名并跳过\n",
    "        print(f\"ERROR：{image_path}，{e}\")\n",
    "        return 1,1\n",
    "\n",
    "def predict(prompt, base64_image):\n",
    "    start_time = time.time()\n",
    "    retry_count = 100\n",
    "    retry_interval = 1\n",
    "\n",
    "    for _ in range(retry_count):\n",
    "        try:\n",
    "            response = client.chat.completions.create(\n",
    "                model=model_name,\n",
    "                messages= [\n",
    "                    {\"role\": \"user\", \"content\": [{\"type\": \"text\", \"text\": prompt},\n",
    "                                                 {\"type\": \"image_url\",\n",
    "                                                  \"image_url\": {\"url\": f\"data:image/jpeg;base64,{base64_image}\",\n",
    "                                                                \"detail\": \"auto\"}}\n",
    "                                                 ]\n",
    "                     }\n",
    "                ],\n",
    "                max_tokens= 1000,\n",
    "                temperature= 0.8\n",
    "            )\n",
    "\n",
    "\n",
    "            msg = response.choices[0].message.content\n",
    "\n",
    "            answer_token = response.usage.completion_tokens\n",
    "            ask_token = response.usage.prompt_tokens\n",
    "            end_time = time.time()\n",
    "            total_run_time = round(end_time - start_time, 3)\n",
    "            print('one_request_time: {} s'.format(total_run_time))\n",
    "            return msg,ask_token,answer_token\n",
    "\n",
    "        except Exception as e:\n",
    "            print(\"erroe：\", e)\n",
    "            print('re-ask....')\n",
    "    \n",
    "            retry_interval *= 2\n",
    "            time.sleep(retry_interval)\n",
    "\n",
    "def main():\n",
    "\n",
    "    start_time_total = time.time()\n",
    "    result_df = pd.read_csv(f'data/{city}/{city}_poi_with_yelp_review_image.csv')\n",
    "    yelp_path = '/data/rawdata/Yelp'\n",
    "    folder_path = yelp_path + f'/{city}_images/'\n",
    "    prompt = \"\"\"This image was taken in {name}, which is a {categories} place. Please give me a brief description for it , no more than 100 words, including as much information as possible from the picture.\"\"\"\n",
    "    print(\"total image num:\",result_df.images_num.sum())\n",
    "\n",
    "    text_result = []\n",
    "    all_answer = 0\n",
    "    all_ask = 0\n",
    "    for index, row in result_df.iterrows():\n",
    "        print(index,row['images_num'])\n",
    "        placekey = row['placekey']\n",
    "        row_name = row['name']\n",
    "        row_categories = row['categories']\n",
    "        all_res = []\n",
    "\n",
    "        for i in range(row['images_num']):\n",
    "            # get the base 64 string of the iamge\n",
    "            image_path = folder_path + placekey + '_' + str(i) + '.jpg'\n",
    "            base64_image,error = encode_image(image_path)\n",
    "            if error:\n",
    "                all_res.append('error')\n",
    "            else:\n",
    "                res,ask_token,answer_token = predict(prompt.format(name=row_name, categories=row_categories), base64_image)\n",
    "                all_res.append(res)\n",
    "                all_answer += answer_token\n",
    "                all_ask += ask_token\n",
    "                time.sleep(0.3)\n",
    "\n",
    "        text_result.append(all_res)\n",
    "\n",
    "        if (index + 1) % chunk_size == 0:\n",
    "            save_path = folder_path+f'textdata/text_result_{index // chunk_size}.csv'\n",
    "            os.makedirs(os.path.dirname(save_path), exist_ok=True)\n",
    "            with open(save_path, mode='w', newline='', encoding='utf-8') as file:\n",
    "                writer = csv.writer(file)\n",
    "                for row in text_result:\n",
    "                    writer.writerow(row)\n",
    "            del text_result\n",
    "            text_result = []\n",
    "\n",
    "    if len(text_result) > 0:\n",
    "        save_path = folder_path+f'textdata/text_result_{index // chunk_size}.csv'\n",
    "        os.makedirs(os.path.dirname(save_path), exist_ok=True)\n",
    "        with open(save_path, mode='w', newline='', encoding='utf-8') as file:\n",
    "            writer = csv.writer(file)\n",
    "            for row in text_result:\n",
    "                writer.writerow(row)\n",
    "\n",
    "    end_time_total = time.time()\n",
    "    total_run_time_total = round(end_time_total - start_time_total, 3)\n",
    "    print('Total_run_time: {} s'.format(total_run_time_total))\n",
    "    print('ask token:', all_ask)\n",
    "    print('answer token:',all_answer)\n",
    "    print('total cost(￥):',all_ask*4.13/1000000+all_answer*4.13/1000000)\n",
    "\n",
    "\n",
    "if __name__ == \"__main__\":\n",
    "    #ATTENTION\n",
    "    api_name = 'siliconflow' #control model\n",
    "    city = 'New Orleans' #control city\n",
    "    chunk_size = 100 #control chunk size\n",
    "\n",
    "    if api_name == 'openai':\n",
    "        API_KEY = 'your key'\n",
    "        proxy = {\n",
    "            'http': 'http://localhost:7890',\n",
    "            'https': 'http://localhost:7890'\n",
    "        }\n",
    "        openai.proxy = proxy\n",
    "        BASE_URL = \"https://api.openai.com/v1/chat/completions\"\n",
    "        model_name = \"gpt-4-turbo\"\n",
    "    elif api_name == 'siliconflow':\n",
    "        API_KEY = 'your key'\n",
    "        BASE_URL= \"https://api.siliconflow.cn/v1\"\n",
    "        model_name = \"Qwen/Qwen2-VL-72B-Instruct\"\n",
    "        client = OpenAI(\n",
    "            api_key=API_KEY,\n",
    "            base_url =BASE_URL\n",
    "        )\n",
    "\n",
    "    elif api_name == 'azureopenai':\n",
    "        API_KEY =\"your key\"\n",
    "        ENDPOINT= \"https://fanbingbing-reem-gpt4o.openai.azure.com/\"\n",
    "        model_name = 'gpt-4o-mini'\n",
    "        client = AzureOpenAI(\n",
    "            api_key=API_KEY,\n",
    "            api_version=\"2024-07-01-preview\",\n",
    "            azure_endpoint= ENDPOINT # end point\n",
    "        )\n",
    "\n",
    "    main()"
   ],
   "metadata": {
    "collapsed": false
   },
   "id": "8da7cc640102c82b"
  },
  {
   "cell_type": "markdown",
   "source": [
    "### Organize text_result"
   ],
   "metadata": {
    "collapsed": false
   },
   "id": "2eea5fa108160adf"
  },
  {
   "cell_type": "code",
   "execution_count": 28,
   "outputs": [
    {
     "name": "stdout",
     "output_type": "stream",
     "text": [
      "text_result_0.csv\n",
      "text_result_1.csv\n",
      "text_result_2.csv\n",
      "text_result_3.csv\n",
      "text_result_4.csv\n",
      "text_result_5.csv\n",
      "text_result_6.csv\n",
      "text_result_7.csv\n",
      "text_result_8.csv\n",
      "text_result_9.csv\n",
      "text_result_10.csv\n",
      "text_result_11.csv\n",
      "text_result_12.csv\n",
      "text_result_13.csv\n",
      "text_result_14.csv\n",
      "text_result_15.csv\n",
      "text_result_16.csv\n",
      "text_result_17.csv\n",
      "text_result_18.csv\n"
     ]
    },
    {
     "data": {
      "text/plain": "                                                  0   \\\n0  The image captures a vibrant dining scene at E...   \n1                                               None   \n2                                               None   \n3                                               None   \n4                                               None   \n\n                                                  1   \\\n0  The image showcases a chicken taco salad from ...   \n1                                               None   \n2                                               None   \n3                                               None   \n4                                               None   \n\n                                                  2   \\\n0  This vibrant dish from El Pollo Loco features ...   \n1                                               None   \n2                                               None   \n3                                               None   \n4                                               None   \n\n                                                  3   \\\n0  The image features a burrito from El Pollo Loc...   \n1                                               None   \n2                                               None   \n3                                               None   \n4                                               None   \n\n                                                  4   \\\n0  The image depicts an El Pollo Loco restaurant ...   \n1                                               None   \n2                                               None   \n3                                               None   \n4                                               None   \n\n                                                  5   \\\n0  The image features a spread from El Pollo Loco...   \n1                                               None   \n2                                               None   \n3                                               None   \n4                                               None   \n\n                                                  6   \\\n0  The image showcases a meal from El Pollo Loco,...   \n1                                               None   \n2                                               None   \n3                                               None   \n4                                               None   \n\n                                                  7   \\\n0  The image showcases a vibrant and appetizing s...   \n1                                               None   \n2                                               None   \n3                                               None   \n4                                               None   \n\n                                                  8     9   ...    78    79  \\\n0  The image depicts a meal from El Pollo Loco, a...  None  ...  None  None   \n1                                               None  None  ...  None  None   \n2                                               None  None  ...  None  None   \n3                                               None  None  ...  None  None   \n4                                               None  None  ...  None  None   \n\n     80    81    82    83    84    85    86    87  \n0  None  None  None  None  None  None  None  None  \n1  None  None  None  None  None  None  None  None  \n2  None  None  None  None  None  None  None  None  \n3  None  None  None  None  None  None  None  None  \n4  None  None  None  None  None  None  None  None  \n\n[5 rows x 88 columns]",
      "text/html": "<div>\n<style scoped>\n    .dataframe tbody tr th:only-of-type {\n        vertical-align: middle;\n    }\n\n    .dataframe tbody tr th {\n        vertical-align: top;\n    }\n\n    .dataframe thead th {\n        text-align: right;\n    }\n</style>\n<table border=\"1\" class=\"dataframe\">\n  <thead>\n    <tr style=\"text-align: right;\">\n      <th></th>\n      <th>0</th>\n      <th>1</th>\n      <th>2</th>\n      <th>3</th>\n      <th>4</th>\n      <th>5</th>\n      <th>6</th>\n      <th>7</th>\n      <th>8</th>\n      <th>9</th>\n      <th>...</th>\n      <th>78</th>\n      <th>79</th>\n      <th>80</th>\n      <th>81</th>\n      <th>82</th>\n      <th>83</th>\n      <th>84</th>\n      <th>85</th>\n      <th>86</th>\n      <th>87</th>\n    </tr>\n  </thead>\n  <tbody>\n    <tr>\n      <th>0</th>\n      <td>The image captures a vibrant dining scene at E...</td>\n      <td>The image showcases a chicken taco salad from ...</td>\n      <td>This vibrant dish from El Pollo Loco features ...</td>\n      <td>The image features a burrito from El Pollo Loc...</td>\n      <td>The image depicts an El Pollo Loco restaurant ...</td>\n      <td>The image features a spread from El Pollo Loco...</td>\n      <td>The image showcases a meal from El Pollo Loco,...</td>\n      <td>The image showcases a vibrant and appetizing s...</td>\n      <td>The image depicts a meal from El Pollo Loco, a...</td>\n      <td>None</td>\n      <td>...</td>\n      <td>None</td>\n      <td>None</td>\n      <td>None</td>\n      <td>None</td>\n      <td>None</td>\n      <td>None</td>\n      <td>None</td>\n      <td>None</td>\n      <td>None</td>\n      <td>None</td>\n    </tr>\n    <tr>\n      <th>1</th>\n      <td>None</td>\n      <td>None</td>\n      <td>None</td>\n      <td>None</td>\n      <td>None</td>\n      <td>None</td>\n      <td>None</td>\n      <td>None</td>\n      <td>None</td>\n      <td>None</td>\n      <td>...</td>\n      <td>None</td>\n      <td>None</td>\n      <td>None</td>\n      <td>None</td>\n      <td>None</td>\n      <td>None</td>\n      <td>None</td>\n      <td>None</td>\n      <td>None</td>\n      <td>None</td>\n    </tr>\n    <tr>\n      <th>2</th>\n      <td>None</td>\n      <td>None</td>\n      <td>None</td>\n      <td>None</td>\n      <td>None</td>\n      <td>None</td>\n      <td>None</td>\n      <td>None</td>\n      <td>None</td>\n      <td>None</td>\n      <td>...</td>\n      <td>None</td>\n      <td>None</td>\n      <td>None</td>\n      <td>None</td>\n      <td>None</td>\n      <td>None</td>\n      <td>None</td>\n      <td>None</td>\n      <td>None</td>\n      <td>None</td>\n    </tr>\n    <tr>\n      <th>3</th>\n      <td>None</td>\n      <td>None</td>\n      <td>None</td>\n      <td>None</td>\n      <td>None</td>\n      <td>None</td>\n      <td>None</td>\n      <td>None</td>\n      <td>None</td>\n      <td>None</td>\n      <td>...</td>\n      <td>None</td>\n      <td>None</td>\n      <td>None</td>\n      <td>None</td>\n      <td>None</td>\n      <td>None</td>\n      <td>None</td>\n      <td>None</td>\n      <td>None</td>\n      <td>None</td>\n    </tr>\n    <tr>\n      <th>4</th>\n      <td>None</td>\n      <td>None</td>\n      <td>None</td>\n      <td>None</td>\n      <td>None</td>\n      <td>None</td>\n      <td>None</td>\n      <td>None</td>\n      <td>None</td>\n      <td>None</td>\n      <td>...</td>\n      <td>None</td>\n      <td>None</td>\n      <td>None</td>\n      <td>None</td>\n      <td>None</td>\n      <td>None</td>\n      <td>None</td>\n      <td>None</td>\n      <td>None</td>\n      <td>None</td>\n    </tr>\n  </tbody>\n</table>\n<p>5 rows × 88 columns</p>\n</div>"
     },
     "execution_count": 28,
     "metadata": {},
     "output_type": "execute_result"
    }
   ],
   "source": [
    "import csv\n",
    "import os\n",
    "\n",
    "city = 'Tucson'\n",
    "folder_path = f'/data/rawdata/Yelp/{city}_images/textdata/text_result_{}.csv' \n",
    "file_pattern = 'text_result_'\n",
    "csv_files = [f for f in os.listdir(folder_path) if f.startswith(file_pattern) and f.endswith('.csv')]\n",
    "csv_files.sort(key=lambda x: int(x.split('_')[-1].split('.')[0]))\n",
    "\n",
    "all_text_results = []\n",
    "for file_name in csv_files:  \n",
    "    file_path = os.path.join(folder_path, file_name)\n",
    "    print(file_name)\n",
    "    with open(file_path, mode='r', newline='', encoding='utf-8') as file:\n",
    "        reader = csv.reader(file)  \n",
    "        text_result = list(reader)\n",
    "        \n",
    "    all_text_results.extend(text_result)\n",
    "df_temp = pd.DataFrame(all_text_results)\n",
    "df_temp.head()"
   ],
   "metadata": {
    "collapsed": false,
    "ExecuteTime": {
     "end_time": "2025-01-24T03:28:37.166540100Z",
     "start_time": "2025-01-24T03:28:37.093932200Z"
    }
   },
   "id": "2d7d62b89f81154e"
  }
 ],
 "metadata": {
  "kernelspec": {
   "display_name": "Python 3",
   "language": "python",
   "name": "python3"
  },
  "language_info": {
   "codemirror_mode": {
    "name": "ipython",
    "version": 3
   },
   "file_extension": ".py",
   "mimetype": "text/x-python",
   "name": "python",
   "nbconvert_exporter": "python",
   "pygments_lexer": "ipython3",
   "version": "3.7.4"
  }
 },
 "nbformat": 4,
 "nbformat_minor": 5
}
