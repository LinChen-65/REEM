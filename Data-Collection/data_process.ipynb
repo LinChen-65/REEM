{
 "cells": [
  {
   "cell_type": "markdown",
   "id": "f8e618538293a68",
   "metadata": {
    "collapsed": false
   },
   "source": [
    "## data_process\n",
    "1. calculate POI's real racial segregation \n",
    "2. get the gap between POIs' visitor proportion and demographic proportion"
   ]
  },
  {
   "cell_type": "code",
   "execution_count": null,
   "id": "11ab63d2",
   "metadata": {
    "collapsed": false
   },
   "outputs": [],
   "source": [
    "import numpy as np\n",
    "import pandas as pd\n",
    "import json\n",
    "import os\n",
    "from numpy import radians, sin, cos, arcsin, sqrt"
   ]
  },
  {
   "cell_type": "markdown",
   "id": "3d15e919",
   "metadata": {
    "collapsed": false
   },
   "source": [
    "## specific city specific time"
   ]
  },
  {
   "cell_type": "code",
   "execution_count": null,
   "id": "fde9cbaffc6a281",
   "metadata": {
    "collapsed": false
   },
   "outputs": [],
   "source": [
    "specific_area = 'Philadelphia'\n",
    "specific_period = '2019'\n",
    "\n",
    "cbg_temp = pd.read_csv('/data/' + specific_area + '/' + specific_area +'_cbg_features_group.csv',usecols=['census_block_group'])\n",
    "specific_cbgs = cbg_temp.census_block_group.tolist()"
   ]
  },
  {
   "cell_type": "markdown",
   "id": "981689893aebff5b",
   "metadata": {
    "collapsed": false
   },
   "source": [
    "# Segregation"
   ]
  },
  {
   "cell_type": "code",
   "execution_count": null,
   "id": "7d784c983b0ac606",
   "metadata": {
    "collapsed": false
   },
   "outputs": [],
   "source": [
    "specific_features = pd.read_csv('/data/'+specific_area+'/'+specific_area+'_cbg_features_group.csv',usecols=['census_block_group', 'Total population', 'asian_ratio', 'Hispanic_ratio', 'non_Hispanic_white_ratio','non_Hispanic_black_ratio', 'average_income', 'longitude', 'latitude']) \n",
    "specific_features.rename(columns={'non_Hispanic_white_ratio':'white_ratio','non_Hispanic_black_ratio':'black_ratio'},inplace=True)\n",
    "\n",
    "specific_poi_dfs = pd.read_csv('/data/'+specific_area+'/'+specific_area+'_poi_visitor.csv')\n",
    "specific_poi_dfs['visitor_home_cbgs'] = specific_poi_dfs.visitor_home_cbgs.map(lambda x: json.loads(x)) \n",
    "specific_poi_dfs['sum_visitor'] = specific_poi_dfs['visitor_home_cbgs'].apply(lambda x:sum(x.values()))\n",
    "specific_poi_dfs.head()"
   ]
  },
  {
   "cell_type": "markdown",
   "id": "c0f4df24bd8fbe6d",
   "metadata": {
    "collapsed": false
   },
   "source": [
    "### racial_seg"
   ]
  },
  {
   "cell_type": "code",
   "execution_count": null,
   "id": "17edca7d2e393b67",
   "metadata": {
    "collapsed": false
   },
   "outputs": [],
   "source": [
    "racial_feature_list=['Hispanic', 'black', 'asian','white']\n",
    "specific_features['other_ratio']=1-(specific_features[[race+'_ratio'for race in racial_feature_list]].sum(axis=1))\n",
    "racial_feature_list.append('other')\n",
    "specific_features[[item+'_ratio' for item in racial_feature_list]] = specific_features[[item+'_ratio' for item in racial_feature_list]].round(6) \n",
    "\n",
    "base_proportion={}\n",
    "\n",
    "sum_population_num = specific_features['Total population'].sum()\n",
    "for race in racial_feature_list:\n",
    "    column_name = race + '_ratio'  \n",
    "    value = (specific_features[column_name]*specific_features['Total population']).sum() \n",
    "    base_proportion[race] = value \n",
    "\n",
    "base_proportion={key:value/sum_population_num for key,value in base_proportion.items()} \n",
    "\n",
    "print('base_racail_proportion:',base_proportion) \n",
    "seg_coefficient=1/(2*(1-min(base_proportion.values())))\n",
    "print('seg_coefficient:',seg_coefficient)"
   ]
  },
  {
   "cell_type": "code",
   "execution_count": null,
   "id": "a66ba473277f01e8",
   "metadata": {
    "collapsed": false
   },
   "outputs": [],
   "source": [
    "def Get_racialseg(row,base_propotion,seg_coefficient): \n",
    "    print(row.name)\n",
    "    visitor_number = row['visitor_home_cbgs']\n",
    "\n",
    "    \n",
    "    feature_keys_list = list(base_proportion.keys())\n",
    "    \n",
    "    feature_visitor_sum = {key: 0 for key in base_proportion}\n",
    "    for keyv, valuev in visitor_number.items():\n",
    "         if int(keyv) in specific_features['census_block_group'].values:\n",
    "             for feature in feature_keys_list:\n",
    "                column_name = feature+'_ratio'\n",
    "                feature_ratio=specific_features.loc[specific_features['census_block_group'] == int(keyv), column_name].values[0]\n",
    "                feature_visitor_sum[feature] += (feature_ratio*valuev)\n",
    "    # print(feature_visitor_sum)\n",
    "    \n",
    "    total_sum = sum(feature_visitor_sum.values())\n",
    "    if total_sum != 0:  \n",
    "        segregation_index = float(0)\n",
    "        for feature in feature_keys_list:  \n",
    "            segregation_index += abs(feature_visitor_sum[feature]/total_sum - base_proportion[feature])\n",
    "        segregation_index *= seg_coefficient\n",
    "    else:\n",
    "        segregation_index=np.nan\n",
    "    # print(segregation_index)\n",
    "    return segregation_index        \n",
    "\n",
    "specific_poi_dfs['racial_segregation_index'] = specific_poi_dfs.apply(lambda row: Get_racialseg(row,base_proportion,seg_coefficient), axis=1)\n",
    "\n",
    "specific_poi_dfs.head()"
   ]
  },
  {
   "cell_type": "code",
   "execution_count": null,
   "outputs": [],
   "source": [
    "specific_poi_dfs.to_csv(\n",
    "    '/data/' + specific_area + '/' + specific_area + '_'+ specific_period + '_segregationindex.csv',\n",
    "    index=False)\n",
    "print(specific_poi_dfs.shape)\n",
    "del specific_poi_dfs"
   ],
   "metadata": {
    "collapsed": false
   },
   "id": "8c2927b4f4abe362"
  },
  {
   "cell_type": "markdown",
   "source": [
    "# Gap between visitor and local demographic"
   ],
   "metadata": {
    "collapsed": false
   },
   "id": "f75debcc14d40771"
  },
  {
   "cell_type": "code",
   "execution_count": null,
   "outputs": [],
   "source": [
    "def disN7(lon1, lat1, lon2, lat2):\n",
    "    lon1, lat1, lon2, lat2 = map(radians, [lon1, lat1, lon2, lat2])\n",
    "    d_lon = lon2 - lon1\n",
    "    d_lat = lat2 - lat1\n",
    "    aa = sin(d_lat / 2) ** 2 + cos(lat1) * cos(lat2) * sin(d_lon / 2) ** 2\n",
    "    bb=sqrt(aa)\n",
    "    c = 2 * arcsin(bb)\n",
    "    r = 6371\n",
    "    return c * r"
   ],
   "metadata": {
    "collapsed": false
   },
   "id": "41e95e31c69a7df3"
  },
  {
   "cell_type": "code",
   "execution_count": null,
   "outputs": [],
   "source": [
    "Yelp_df= pd.read_csv(f'/data/{specific_area}/{specific_area}_poi_with_yelp_review_image_imagestext_GPT4v.csv',usecols=['placekey','poi_cbg']) \n",
    "poi_seg_df = pd.read_csv(f'/data/{specific_area}/{specific_area}_{specific_period}_segregationindex.csv') \n",
    "poi_seg_df['racial_segregation_index'] = poi_seg_df['racial_segregation_index'].round(6)\n",
    "poi_location_df = pd.read_csv(f'/data/{specific_area}/{specific_area}_poi_location.csv')\n",
    "poi_df = pd.merge(Yelp_df,poi_seg_df,on='placekey',how='left')\n",
    "poi_df = poi_df.merge(poi_location_df,on='placekey',how='left')\n",
    "# poi_df['racial_predict_segregation_index']=np.NAN"
   ],
   "metadata": {
    "collapsed": false
   },
   "id": "855bc16c777d4aae"
  },
  {
   "cell_type": "code",
   "execution_count": null,
   "outputs": [],
   "source": [
    "mean_array = {}\n",
    "for racial in racial_feature_list:\n",
    "    proportion=np.sum(specific_features[racial+'_ratio']*specific_features['Total population'])/specific_features['Total population'].sum()\n",
    "    mean_array[racial] = round(proportion,6)\n",
    "\n",
    "seg_coefficient = round(1/(2*(1-min(mean_array.values()))),6)\n",
    "print('mean_population:',mean_array,'\\nseg_coefficient:',seg_coefficient)"
   ],
   "metadata": {
    "collapsed": false
   },
   "id": "43b87211704c7a62"
  },
  {
   "cell_type": "code",
   "execution_count": null,
   "outputs": [],
   "source": [
    "def getracial(cbg_row,racial):\n",
    "    if cbg_row.empty:\n",
    "        return mean_array[racial]\n",
    "    else:\n",
    "        Total = cbg_row['Total population'].sum()\n",
    "        proportion=np.sum(cbg_row[racial+'_ratio']*cbg_row['Total population'])/Total\n",
    "        return round(proportion,6)  \n",
    "\n",
    "for racial in racial_feature_list:\n",
    "    colunms_name = racial+'_selfcbg'\n",
    "    poi_df[colunms_name] = poi_df['poi_cbg'].apply(lambda x:getracial(specific_features[specific_features['census_block_group']==x],racial))\n",
    "poi_df.head()"
   ],
   "metadata": {
    "collapsed": false
   },
   "id": "96c1cea6ab6e75a8"
  },
  {
   "cell_type": "code",
   "execution_count": null,
   "outputs": [],
   "source": [
    "import tqdm\n",
    "import ast\n",
    "\n",
    "poi_dif_list = []\n",
    "pre_part_name = '_selfcbg'\n",
    "\n",
    "for index, row in tqdm.tqdm(poi_df.iterrows()):\n",
    "    new_row = row.copy()\n",
    "    #1.real_flow\n",
    "    real_visitor_dict = ast.literal_eval(row['visitor_home_cbgs'])\n",
    "    real_flow_Series = pd.Series(np.zeros(specific_features.shape[0]), index=specific_features.index)\n",
    "    for indexcbg,rowcbg in specific_features.iterrows():\n",
    "        cbg=str(int(rowcbg['census_block_group']))\n",
    "        if cbg in real_visitor_dict:\n",
    "            real_flow_Series.at[indexcbg] = real_visitor_dict[cbg]\n",
    "    \n",
    "    #2. \n",
    "    sum_real_flow = real_flow_Series.sum()\n",
    "    for racial in racial_feature_list:\n",
    "        \n",
    "        feature_columns_name = racial+'_ratio'\n",
    "        group_real_flow = (real_flow_Series*specific_features[feature_columns_name]).sum()/sum_real_flow\n",
    "        group_pre_flow = row[racial+pre_part_name]\n",
    "        group_dif_flow = group_real_flow-group_pre_flow\n",
    "        \n",
    "        new_row_key = racial+'_dif'\n",
    "        new_row[new_row_key] = group_dif_flow\n",
    "        new_row[racial+'_real'] = group_real_flow\n",
    "    \n",
    "    poi_dif_list.append(new_row)\n",
    "    \n",
    "poi_dif_df=pd.DataFrame(poi_dif_list)\n",
    "poi_dif_df.head()"
   ],
   "metadata": {
    "collapsed": false
   },
   "id": "5bc38cce51eed393"
  },
  {
   "cell_type": "code",
   "execution_count": null,
   "outputs": [],
   "source": [
    "poi_save = poi_dif_df[['placekey', 'racial_segregation_index',\n",
    "       'Hispanic_selfcbg',\n",
    "       'black_selfcbg', 'asian_selfcbg', 'white_selfcbg', 'other_selfcbg',\n",
    "       'Hispanic_dif', 'Hispanic_real', 'black_dif', 'black_real', 'asian_dif',\n",
    "       'asian_real', 'white_dif', 'white_real', 'other_dif', 'other_real']]\n",
    "\n",
    "poi_save.to_csv(f'/data/{specific_area}/{specific_area}_realseg+population_dif.csv',index=False)"
   ],
   "metadata": {
    "collapsed": false
   },
   "id": "a4d42e09213f0e89"
  }
 ],
 "metadata": {
  "kernelspec": {
   "display_name": "Python 3 (ipykernel)",
   "language": "python",
   "name": "python3"
  },
  "language_info": {
   "codemirror_mode": {
    "name": "ipython",
    "version": 3
   },
   "file_extension": ".py",
   "mimetype": "text/x-python",
   "name": "python",
   "nbconvert_exporter": "python",
   "pygments_lexer": "ipython3",
   "version": "3.7.11"
  }
 },
 "nbformat": 4,
 "nbformat_minor": 5
}
